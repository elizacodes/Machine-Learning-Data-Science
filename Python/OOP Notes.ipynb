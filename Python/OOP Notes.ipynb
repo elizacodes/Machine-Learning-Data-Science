{
 "cells": [
  {
   "attachments": {},
   "cell_type": "markdown",
   "metadata": {},
   "source": [
    "# Object-Oriented Programming\n",
    "\n",
    "OOP provides a means of structuring programs so that behaviors and properties are bundled into individual objects.\n",
    "\n",
    "An example can include an email with properlies like a subject, body, and recipient list, while the behaviors are adding attachments and sending the official email.\n",
    "\n",
    "The approach for OOP is to have a good foundational conrete, it entities software objects that have some data associated with them and can perform certain functions.\n",
    "\n",
    "- An object is any entity that has attributes and behaviors. For example, a `parrot` is an object:\n",
    "    - **Attributes**: name, age, color, etc.\n",
    "    - **Behavior**: Dancing, singing, etc.\n",
    "\n",
    "### Classes\n",
    "\n",
    "- **Classes** are used to create user-defined data structures. They define functions called **methods**, which identify the behaviors and actions that an object created from the class can perform with its data.\n",
    "- A class can be seen as a blueprint for how something should be defined. It doesn't necessarily have any data. (e.g. The `Dog` class can contain a name and an age necessary for defining a dog, though it doesn't contain the name or age of any specific dog)\n",
    "- An **instance** is an object that is built from a class and contains real data. (e.g. the instance of the `Dog` class is not a blueprint anymore, therefore it has a name such as Charles and is five years old)"
   ]
  },
  {
   "cell_type": "code",
   "execution_count": 4,
   "metadata": {},
   "outputs": [
    {
     "name": "stdout",
     "output_type": "stream",
     "text": [
      "The oldest lemur is named Tom and he is 5 years old. His breed is a Ring-Tailed Lemur.\n"
     ]
    }
   ],
   "source": [
    "class Lemur:\n",
    "    species = 'mammal' # Class Object Attribute = same line as our methods, this is static, not dynamic\n",
    "    def __init__(self, name, age, breed):\n",
    "        self.name = name\n",
    "        self.age = age\n",
    "        self.breed = breed\n",
    "        \n",
    "# Instantiate the Lemur object with 3 lemurs\n",
    "    tom = Lemur(\"Tom\", 5, \"Ring-Tailed Lemur\")\n",
    "    lola = Lemur(\"Lola\", 4, \"Black Lemur\")\n",
    "    morty = Lemur(\"Morty\", 3, \"Gray Mouse Lemur\")\n",
    "\n",
    "# Create a function that finds the oldest lemur\n",
    "    def oldest_lemur(*args):\n",
    "        return max(args)\n",
    "\n",
    "# Print out the age of the oldest lemur and its breed.\n",
    "print(f\"The oldest lemur is named {Lemur.oldest_lemur(tom.name, lola.name, morty.name)} and he is {Lemur.oldest_lemur(tom.age, lola.age, morty.age)} years old. His breed is a {Lemur.oldest_lemur(tom.breed, lola.breed, morty.breed)}.\")\n",
    "\n"
   ]
  },
  {
   "attachments": {},
   "cell_type": "markdown",
   "metadata": {},
   "source": [
    "- A *variable* stored in an instance or class is called an *attribute*\n",
    "- A *function* stored in an instance or class is called a *method*.\n",
    "- In *dynamic*, the type of variable is assigned when the code is compiled/interpreted\n",
    "- In *static*, the type of variable is assigned as the variables are initialized"
   ]
  },
  {
   "attachments": {},
   "cell_type": "markdown",
   "metadata": {},
   "source": [
    "### `__init__`\n",
    "\n",
    "This represents a constructor for a class in Python. The `self` parameter refers to the instance of an object.\n",
    "\n",
    "- `__init` **doesn't** initialize a class, it initializes an instance of a class or an object.\n",
    "    - (e.g. Each dog has a color, but dogs as a class don't. Each dog has four or fewer feet, but the class of dogs doesn't.)\n",
    "\n"
   ]
  },
  {
   "cell_type": "code",
   "execution_count": 7,
   "metadata": {},
   "outputs": [],
   "source": [
    "class Dog:\n",
    "    def __init__(self, legs, colour):\n",
    "        self.legs = legs\n",
    "        self.colour = colour\n",
    "\n",
    "fido = Dog(4, \"brown\")\n",
    "spot = Dog(3, \"mostly yellow\")"
   ]
  },
  {
   "attachments": {},
   "cell_type": "markdown",
   "metadata": {},
   "source": [
    "### @classmethod and @staticmethod\n",
    "\n",
    "- You can use `@classmethod` without even instantiating a class.\n",
    "- `cls` stands for class; you can use it to instantiate an object."
   ]
  },
  {
   "cell_type": "code",
   "execution_count": 6,
   "metadata": {},
   "outputs": [
    {
     "name": "stdout",
     "output_type": "stream",
     "text": [
      "<__main__.PlayerCharacter object at 0x000001E64577A050>\n"
     ]
    }
   ],
   "source": [
    "class PlayerCharacter:\n",
    "    membership = True\n",
    "    def __init__(self, name, age):\n",
    "        self.name = name # Attributes\n",
    "        self.age = age\n",
    "        \n",
    "    @classmethod\n",
    "    def adding_things(cls, num1, num2): # Methods\n",
    "        return cls('Tom', num1 + num2)\n",
    "    \n",
    "print(PlayerCharacter.adding_things(2, 3)) # Look at the output, where you are instantiating an object.\n",
    "\n",
    "# The @staticmethod works the same exact way, except you do not access the cls."
   ]
  },
  {
   "attachments": {},
   "cell_type": "markdown",
   "metadata": {},
   "source": [
    "## 4 Pillars of Object-Oriented Programming\n",
    "\n",
    "### 1. Encapsulation\n",
    "- The bundling of attributes and methods inside a single class\n",
    "- We combine it into one big object so that users, code, and machines can interact with it\n",
    "- (e.g. you access all functionality when you create a string)\n",
    "- Using encapsulation with OOP, you are combining things together into one 'box'\n",
    "    - Prevents outer classes from accessing and changing attributes and methods of a class\n",
    "        - Achieves **data hiding**"
   ]
  },
  {
   "cell_type": "code",
   "execution_count": 8,
   "metadata": {},
   "outputs": [
    {
     "name": "stdout",
     "output_type": "stream",
     "text": [
      "My name is Ellie, and I am 24 years old.\n"
     ]
    }
   ],
   "source": [
    "class PlayerCharacter:\n",
    "    def __init__(self, name, age):\n",
    "        self.name = name\n",
    "        self.age = age\n",
    "        \n",
    "    def speak(self):\n",
    "        print(f'My name is {self.name}, and I am {self.age} years old.')\n",
    "\n",
    "player1 = PlayerCharacter('Ellie', 24)\n",
    "player1.speak()"
   ]
  },
  {
   "attachments": {},
   "cell_type": "markdown",
   "metadata": {},
   "source": [
    "### 2. Abstraction\n",
    "- Hiding of information / abstracting away information and giving access only to what's necessary\n",
    "- We can see this in action with the above code with `player1.speak()` because we are asking for that function run\n",
    "- The power of OOP is that we are abstracting things that we do not necessarily need to care about (or, it makes it more efficient so we aren't coding from scratch)"
   ]
  },
  {
   "attachments": {},
   "cell_type": "markdown",
   "metadata": {},
   "source": [
    "However, when we see an underscore in Python, such as `self._name`, we note that this is just a convention and it is a private variable.\n",
    "\n",
    "Although, there are no *true* private variables. Usually, if variables contain that underscore, it shouldn't be modified. Look at `__init__` for example.\n",
    "\n",
    "`__init__` is an example of a Dunder Method (do not modify it)."
   ]
  },
  {
   "cell_type": "code",
   "execution_count": 10,
   "metadata": {},
   "outputs": [
    {
     "name": "stdout",
     "output_type": "stream",
     "text": [
      "I like cats!\n"
     ]
    }
   ],
   "source": [
    "class PlayerCharacter:\n",
    "    def __init__(self, name, age):\n",
    "        self.name = name\n",
    "        self.age = age\n",
    "        \n",
    "    def speak(self):\n",
    "        print(f'My name is {self.name}, and I am {self.age} years old.')\n",
    "\n",
    "player1 = PlayerCharacter('Ellie', 24)\n",
    "player1.name = 'Wes'\n",
    "player1.speak = 'I like cats!'\n",
    "\n",
    "print(player1.speak)\n",
    "\n",
    "# Note, as you are running this, speak has been changed to a string and it's no longer a function.\n",
    "# But... anyone can come along and override the work that is put into the class PlayerCharacter..."
   ]
  },
  {
   "attachments": {},
   "cell_type": "markdown",
   "metadata": {},
   "source": [
    "### 3. Inheritance\n",
    "\n",
    "This allows new objects to take on the properties of existing objects so you can inherit classes.\n",
    "\n",
    "**Basically, creating a new class for using details of an existing class without modifying it.**\n",
    "\n",
    "- A newly formed class is a derived class (child class)\n",
    "- The existing class is a base class (parent class)\n",
    "\n",
    "Let's take a look at the video game code below. We want to create classes of different types of builds for each character in a video game, however, we want to make sure we state that we'd like the User to be logged in first before we can proceed with any specific build (e.g. wizards). This is where inheritance comes into play."
   ]
  },
  {
   "cell_type": "code",
   "execution_count": 12,
   "metadata": {},
   "outputs": [
    {
     "name": "stdout",
     "output_type": "stream",
     "text": [
      "Logged In\n",
      "None\n"
     ]
    }
   ],
   "source": [
    "class User():\n",
    "    def sign_in(self): # note that there is no __init__ here... if we do not need to use any variables or have the user 'assign' anything, it is not needed.\n",
    "        print(\"Logged In\")\n",
    "        \n",
    "class Wizard(User):\n",
    "    pass\n",
    "\n",
    "class Archer(User):\n",
    "    pass\n",
    "\n",
    "wizard1 = Wizard()\n",
    "print(wizard1.sign_in()) # The wizard has now logged on. You inherited from the User class.\n",
    "\n",
    "# This becomes really powerful because you can now extend your wizard."
   ]
  },
  {
   "cell_type": "code",
   "execution_count": 2,
   "metadata": {},
   "outputs": [
    {
     "name": "stdout",
     "output_type": "stream",
     "text": [
      "Status of Membership for Player 1: True\n",
      "My name is Serana and I am 130 years old, I hold the power of Blood.\n",
      "None\n",
      "Status of Membership for Player 2: True\n",
      "My name is Davina and I am 198 years old, I hold the power of Static.\n",
      "None\n"
     ]
    }
   ],
   "source": [
    "class PlayerCharacter():\n",
    "    membership = True\n",
    "    def __init__(self, name, age, power):\n",
    "        if (self.membership == True):\n",
    "            self.name = name\n",
    "            self.age = age\n",
    "            self.power = power\n",
    "            \n",
    "    def shout(self):\n",
    "        print(f\"My name is {self.name} and I am {self.age} years old, I hold the power of {self.power}.\")\n",
    "        \n",
    "player1 = PlayerCharacter('Serana', 130, 'Blood')\n",
    "player2 = PlayerCharacter('Davina', 198, 'Static')\n",
    "\n",
    "print(f\"Status of Membership for Player 1: {PlayerCharacter.membership}\")\n",
    "print(player1.shout())\n",
    "print(f\"Status of Membership for Player 2: {PlayerCharacter.membership}\")\n",
    "print(player2.shout())"
   ]
  },
  {
   "cell_type": "code",
   "execution_count": 15,
   "metadata": {},
   "outputs": [
    {
     "name": "stdout",
     "output_type": "stream",
     "text": [
      "Attacking with the power of 50\n",
      "Attacking with arrows! \n",
      " Arrows Left: 100\n"
     ]
    }
   ],
   "source": [
    "class User():\n",
    "    def sign_in(self):\n",
    "        print(\"Logged In\")\n",
    "        \n",
    "class Wizard(User):\n",
    "    def __init__(self, name, power):\n",
    "        self.name = name\n",
    "        self.power = power\n",
    "        \n",
    "    def attack(self):\n",
    "        print(f\"Attacking with the power of {self.power}\")\n",
    "\n",
    "class Archer(User):\n",
    "    def __init__(self, name, num_arrows):\n",
    "        self.name = name\n",
    "        self.num_arrows = num_arrows\n",
    "        \n",
    "    def attack(self):\n",
    "        print(f\"Attacking with arrows! \\n Arrows Left: {self.num_arrows}\")\n",
    "        \n",
    "# The wizard and archer classes will have to log in first with User\n",
    "# and then they have their own unique attacks and different properties.\n",
    "\n",
    "wizard1 = Wizard('Merlin', 50)\n",
    "archer1 = Archer('Robin', 100)\n",
    "wizard1.attack()\n",
    "archer1.attack()\n",
    "\n",
    "# The wizard and archer are now attacking, however they both need to sign in first with the sign_in function."
   ]
  },
  {
   "attachments": {},
   "cell_type": "markdown",
   "metadata": {},
   "source": [
    "There is a way in Python to check if something is an instance of a class.\n",
    "\n",
    "Easy for us, it's called `isinstance()`, it is a built-in function. We give it its `instance` and `Class` to check."
   ]
  },
  {
   "cell_type": "code",
   "execution_count": 22,
   "metadata": {},
   "outputs": [
    {
     "name": "stdout",
     "output_type": "stream",
     "text": [
      "True\n",
      "True\n",
      "True\n"
     ]
    }
   ],
   "source": [
    "print(isinstance(wizard1, Wizard)) # We get True because wizard1 is an instance of Wizard.\n",
    "print(isinstance(wizard1, User)) # We also get True here because the Wizard class is a subclass of User.\n",
    "print(isinstance(wizard1, object)) # This is True because wizard1 inherits methods from the Wizard class from the User class, and even higher-up, the object base class that Python comes with.\n",
    "\n",
    "# This helps to avoid repeating code."
   ]
  },
  {
   "attachments": {},
   "cell_type": "markdown",
   "metadata": {},
   "source": [
    "### 4. Polymorphism\n",
    "\n",
    "**We know that methods belong to objects.**\n",
    "\n",
    "We see polymorphism as a way that object classes can share the same method name. Though that depends on what object is called.\n",
    "\n",
    "It refers to an object's ability to take on multiple forms in different scenarios."
   ]
  },
  {
   "cell_type": "code",
   "execution_count": 23,
   "metadata": {},
   "outputs": [
    {
     "name": "stdout",
     "output_type": "stream",
     "text": [
      "Attacking with the power of 60\n",
      "Attacking with arrows! \n",
      " Arrows Left: 30\n"
     ]
    }
   ],
   "source": [
    "class User():\n",
    "    def sign_in(self):\n",
    "        print(\"Logged In\")\n",
    "        \n",
    "class Wizard(User):\n",
    "    def __init__(self, name, power):\n",
    "        self.name = name\n",
    "        self.power = power\n",
    "        \n",
    "    def attack(self):\n",
    "        print(f\"Attacking with the power of {self.power}\")\n",
    "\n",
    "class Archer(User):\n",
    "    def __init__(self, name, num_arrows):\n",
    "        self.name = name\n",
    "        self.num_arrows = num_arrows\n",
    "        \n",
    "    def attack(self):\n",
    "        print(f\"Attacking with arrows! \\n Arrows Left: {self.num_arrows}\")\n",
    "        \n",
    "wizard1 = Wizard('Merlin', 60)\n",
    "archer1 = Archer('Robin', 30)\n",
    "\n",
    "def player_attack(char):\n",
    "    char.attack()\n",
    "    \n",
    "player_attack(wizard1)\n",
    "player_attack(archer1)"
   ]
  },
  {
   "attachments": {},
   "cell_type": "markdown",
   "metadata": {},
   "source": [
    "### Inheritance Exercise"
   ]
  },
  {
   "cell_type": "code",
   "execution_count": 25,
   "metadata": {},
   "outputs": [
    {
     "name": "stdout",
     "output_type": "stream",
     "text": [
      "Simon is just walking around.\n",
      "Sally is just walking around.\n",
      "Ollie is just walking around.\n"
     ]
    }
   ],
   "source": [
    "class Pets():\n",
    "    animals = []\n",
    "    def __init__(self, animals):\n",
    "        self.animals = animals\n",
    "        \n",
    "    def walk(self):\n",
    "        for animal in self.animals:\n",
    "            print(animal.walk())\n",
    "\n",
    "class Cat():\n",
    "    is_lazy = True\n",
    "    \n",
    "    def __init__(self, name, age):\n",
    "        self.name = name\n",
    "        self.age = age\n",
    "        \n",
    "    def walk(self):\n",
    "        return f'{self.name} is just walking around.'\n",
    "    \n",
    "class Simon(Cat):\n",
    "    def sing(self, sounds):\n",
    "        return f'{sounds}'\n",
    "    \n",
    "class Sally(Cat):\n",
    "    def sing(self, sounds):\n",
    "        return f'{sounds}'\n",
    "\n",
    "# Add another cat\n",
    "class Ollie(Cat):\n",
    "    def sing(self, sounds):\n",
    "        return f'{sounds}'\n",
    "\n",
    "# Create a list of all of the pets and create 3 cat instances\n",
    "my_cats = [Simon('Simon', 3), Sally('Sally', 3), Ollie('Ollie', 4)]\n",
    "\n",
    "# Instantiate the Pet class with all your cats use variable my_pets\n",
    "my_pets = Pets(my_cats)\n",
    "\n",
    "# Output all of the cats walking using the my_pets instance\n",
    "my_pets.walk()"
   ]
  },
  {
   "attachments": {},
   "cell_type": "markdown",
   "metadata": {},
   "source": [
    "### super()\n",
    "\n",
    "- This returns a proxy object (temporary object of the superclass) that allows us to access methods of the base class\n",
    "    - Allows us to avoid using the base name explicity\n",
    "    - Working with Multiple Inheritance"
   ]
  },
  {
   "cell_type": "code",
   "execution_count": 3,
   "metadata": {},
   "outputs": [
    {
     "name": "stdout",
     "output_type": "stream",
     "text": [
      "Animal Type: Mammal\n",
      "Mammals give birth directly\n"
     ]
    }
   ],
   "source": [
    "class Animal():\n",
    "    def __init__(self, animal_type):\n",
    "        print(f'Animal Type: {animal_type}')\n",
    "\n",
    "class Mammal(Animal):\n",
    "    def __init__(self):\n",
    "        # call superclass\n",
    "        super().__init__('Mammal')\n",
    "        print('Mammals give birth directly')\n",
    "        \n",
    "dog = Mammal()"
   ]
  },
  {
   "cell_type": "code",
   "execution_count": 4,
   "metadata": {},
   "outputs": [
    {
     "name": "stdout",
     "output_type": "stream",
     "text": [
      "The area of the square is 16\n",
      "The cube's surface area is 54\n",
      "The cube's volume is 27\n"
     ]
    }
   ],
   "source": [
    "class Rectangle:\n",
    "    def __init__(self, length, width):\n",
    "        self.length = length\n",
    "        self.width = width\n",
    "    \n",
    "    def area(self):\n",
    "        return self.length * self.width\n",
    "    \n",
    "    def perimeter(self):\n",
    "        return 2 * self.length + 2 * self.width\n",
    "    \n",
    "class Square(Rectangle):\n",
    "    def __init__(self, length):\n",
    "        super().__init__(length, length)\n",
    "        # calling the __init__ from the Rectangle class\n",
    "        # so we can use it in the Square class without\n",
    "        # having to repeat code\n",
    "        \n",
    "class Cube(Square):\n",
    "    def surface_area(self):\n",
    "        face_area = super().area()\n",
    "        return face_area * 6\n",
    "    \n",
    "    def volume(self):\n",
    "        face_area = super().area()\n",
    "        return face_area * self.length\n",
    "    \n",
    "square = Square(4)\n",
    "print(f\"The area of the square is {square.area()}\")\n",
    "cube = Cube(3)\n",
    "print(f\"The cube's surface area is {cube.surface_area()}\")\n",
    "print(f\"The cube's volume is {cube.volume()}\")"
   ]
  },
  {
   "attachments": {},
   "cell_type": "markdown",
   "metadata": {},
   "source": [
    "### Dunder Methods\n",
    "\n",
    "- Special methods that start and end with the double underscores\n",
    "- Commonly used for operator overloading\n",
    "- You can use `dir()` to gain access to all of your Dunder (also known as magic) methods"
   ]
  },
  {
   "cell_type": "code",
   "execution_count": 5,
   "metadata": {},
   "outputs": [
    {
     "data": {
      "text/plain": [
       "['__abs__',\n",
       " '__add__',\n",
       " '__and__',\n",
       " '__bool__',\n",
       " '__ceil__',\n",
       " '__class__',\n",
       " '__delattr__',\n",
       " '__dir__',\n",
       " '__divmod__',\n",
       " '__doc__',\n",
       " '__eq__',\n",
       " '__float__',\n",
       " '__floor__',\n",
       " '__floordiv__',\n",
       " '__format__',\n",
       " '__ge__',\n",
       " '__getattribute__',\n",
       " '__getnewargs__',\n",
       " '__gt__',\n",
       " '__hash__',\n",
       " '__index__',\n",
       " '__init__',\n",
       " '__init_subclass__',\n",
       " '__int__',\n",
       " '__invert__',\n",
       " '__le__',\n",
       " '__lshift__',\n",
       " '__lt__',\n",
       " '__mod__',\n",
       " '__mul__',\n",
       " '__ne__',\n",
       " '__neg__',\n",
       " '__new__',\n",
       " '__or__',\n",
       " '__pos__',\n",
       " '__pow__',\n",
       " '__radd__',\n",
       " '__rand__',\n",
       " '__rdivmod__',\n",
       " '__reduce__',\n",
       " '__reduce_ex__',\n",
       " '__repr__',\n",
       " '__rfloordiv__',\n",
       " '__rlshift__',\n",
       " '__rmod__',\n",
       " '__rmul__',\n",
       " '__ror__',\n",
       " '__round__',\n",
       " '__rpow__',\n",
       " '__rrshift__',\n",
       " '__rshift__',\n",
       " '__rsub__',\n",
       " '__rtruediv__',\n",
       " '__rxor__',\n",
       " '__setattr__',\n",
       " '__sizeof__',\n",
       " '__str__',\n",
       " '__sub__',\n",
       " '__subclasshook__',\n",
       " '__truediv__',\n",
       " '__trunc__',\n",
       " '__xor__',\n",
       " 'as_integer_ratio',\n",
       " 'bit_count',\n",
       " 'bit_length',\n",
       " 'conjugate',\n",
       " 'denominator',\n",
       " 'from_bytes',\n",
       " 'imag',\n",
       " 'numerator',\n",
       " 'real',\n",
       " 'to_bytes']"
      ]
     },
     "execution_count": 5,
     "metadata": {},
     "output_type": "execute_result"
    }
   ],
   "source": [
    "dir(int)"
   ]
  },
  {
   "cell_type": "code",
   "execution_count": 6,
   "metadata": {},
   "outputs": [
    {
     "name": "stdout",
     "output_type": "stream",
     "text": [
      "red\n",
      "red\n"
     ]
    }
   ],
   "source": [
    "class Toy():\n",
    "    def __init__(self, color, age):\n",
    "        self.color = color\n",
    "        self.age = age\n",
    "        \n",
    "    def __str__(self):\n",
    "        return (f'{self.color}')\n",
    "    \n",
    "action_figure = Toy('red', 2)\n",
    "print(action_figure.__str__())\n",
    "print(str(action_figure))"
   ]
  }
 ],
 "metadata": {
  "kernelspec": {
   "display_name": "Python 3",
   "language": "python",
   "name": "python3"
  },
  "language_info": {
   "codemirror_mode": {
    "name": "ipython",
    "version": 3
   },
   "file_extension": ".py",
   "mimetype": "text/x-python",
   "name": "python",
   "nbconvert_exporter": "python",
   "pygments_lexer": "ipython3",
   "version": "3.10.6"
  },
  "orig_nbformat": 4,
  "vscode": {
   "interpreter": {
    "hash": "51c7269ed29b4e88c3240d25a87d265b5a86ff1e3a5a3d8fa161d871dd293899"
   }
  }
 },
 "nbformat": 4,
 "nbformat_minor": 2
}
