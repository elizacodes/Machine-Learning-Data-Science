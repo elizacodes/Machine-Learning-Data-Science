{
 "cells": [
  {
   "attachments": {},
   "cell_type": "markdown",
   "metadata": {},
   "source": [
    "# Functional Programming\n",
    "\n",
    "A programming paradigm where programs are constructed by applying and composing functions.\n",
    "\n",
    "Important to note about your coding:\n",
    "\n",
    "- Clear and understandable\n",
    "- Easy to extend\n",
    "- Easy to maintain\n",
    "- Memory efficient\n",
    "- DRY (don't repeat yourself)"
   ]
  },
  {
   "attachments": {},
   "cell_type": "markdown",
   "metadata": {},
   "source": [
    "### Pure Functions\n",
    "\n",
    "Returns the same values given the same arguments\n",
    "\n",
    "- It is not pure if there is something outside the function that can change its return, given the same arguments\n",
    "- There are no side effects, therefore there is less buggy code\n",
    "    - Meaning no developer can touch the outside code of a function"
   ]
  },
  {
   "cell_type": "code",
   "execution_count": 2,
   "metadata": {},
   "outputs": [
    {
     "name": "stdout",
     "output_type": "stream",
     "text": [
      "[2, 4, 6]\n"
     ]
    }
   ],
   "source": [
    "def mult_by_two(li):\n",
    "    new_list = []\n",
    "    for i in li:\n",
    "        new_list.append(i*2)\n",
    "    return new_list\n",
    "\n",
    "print(mult_by_two([1,2,3]))\n",
    "\n",
    "# Note that we put new_list in the function itself\n",
    "# This is a pure function, therefore there are no side effects\n",
    "# and it is prone to less error and buggy code compared to..."
   ]
  },
  {
   "cell_type": "code",
   "execution_count": 4,
   "metadata": {},
   "outputs": [
    {
     "ename": "AttributeError",
     "evalue": "'str' object has no attribute 'append'",
     "output_type": "error",
     "traceback": [
      "\u001b[1;31m---------------------------------------------------------------------------\u001b[0m",
      "\u001b[1;31mAttributeError\u001b[0m                            Traceback (most recent call last)",
      "Cell \u001b[1;32mIn [4], line 9\u001b[0m\n\u001b[0;32m      6\u001b[0m \t\u001b[39mreturn\u001b[39;00m new_list\n\u001b[0;32m      8\u001b[0m new_list \u001b[39m=\u001b[39m \u001b[39m'\u001b[39m\u001b[39m'\u001b[39m\n\u001b[1;32m----> 9\u001b[0m \u001b[39mprint\u001b[39m(mult_by_two([\u001b[39m1\u001b[39;49m, \u001b[39m2\u001b[39;49m, \u001b[39m3\u001b[39;49m]))\n",
      "Cell \u001b[1;32mIn [4], line 5\u001b[0m, in \u001b[0;36mmult_by_two\u001b[1;34m(li)\u001b[0m\n\u001b[0;32m      3\u001b[0m \u001b[39mdef\u001b[39;00m \u001b[39mmult_by_two\u001b[39m(li):\n\u001b[0;32m      4\u001b[0m \t\u001b[39mfor\u001b[39;00m i \u001b[39min\u001b[39;00m li:\n\u001b[1;32m----> 5\u001b[0m \t\tnew_list\u001b[39m.\u001b[39;49mappend(i \u001b[39m*\u001b[39m \u001b[39m2\u001b[39m)\n\u001b[0;32m      6\u001b[0m \t\u001b[39mreturn\u001b[39;00m new_list\n",
      "\u001b[1;31mAttributeError\u001b[0m: 'str' object has no attribute 'append'"
     ]
    }
   ],
   "source": [
    "new_list = []\n",
    "\n",
    "def mult_by_two(li):\n",
    "\tfor i in li:\n",
    "\t\tnew_list.append(i * 2)\n",
    "\treturn new_list\n",
    "\n",
    "new_list = ''\n",
    "print(mult_by_two([1, 2, 3]))\n",
    "\n",
    "# This results into an error, due to the change of\n",
    "# new_list into a string rather than its original\n",
    "# storage of a list."
   ]
  },
  {
   "attachments": {},
   "cell_type": "markdown",
   "metadata": {},
   "source": [
    "### Impure Functions\n",
    "\n",
    "'Influenced' by forces outside the function, meaning even though they have the same arguments, there is no guarantee that it will return the same output\n",
    "\n",
    "Keep in mind that pure functions are mainly a **guideline**, if we didn't have impure functions, we wouldn't be able to have programs at all"
   ]
  },
  {
   "attachments": {},
   "cell_type": "markdown",
   "metadata": {},
   "source": [
    "\n",
    "### `map()`\n",
    "\n",
    "Returns a map object (iterator) of the results after applying the given function to each item of a given iterable.\n",
    "\n",
    "`map(func, iter)`\n"
   ]
  },
  {
   "cell_type": "code",
   "execution_count": 5,
   "metadata": {},
   "outputs": [
    {
     "name": "stdout",
     "output_type": "stream",
     "text": [
      "[2, 4, 6]\n",
      "[1, 2, 3]\n"
     ]
    }
   ],
   "source": [
    "my_list = [1, 2, 3]\n",
    "def multiply_by2(item):\n",
    "\treturn item * 2\n",
    "\n",
    "print(list(map(multiply_by2, my_list)))\n",
    "print(my_list)\n",
    "\n",
    "# Remember, a pure function is a function that does not affect the outside world.\n",
    "# map() just created a new list and returns it for us, though it doesn't affect\n",
    "# what is going on outside"
   ]
  },
  {
   "attachments": {},
   "cell_type": "markdown",
   "metadata": {},
   "source": [
    "### `filter()`\n",
    "\n",
    "The function says it all"
   ]
  },
  {
   "cell_type": "code",
   "execution_count": 6,
   "metadata": {},
   "outputs": [
    {
     "name": "stdout",
     "output_type": "stream",
     "text": [
      "[1, 3]\n",
      "[1, 2, 3]\n"
     ]
    }
   ],
   "source": [
    "my_list = [1, 2, 3]\n",
    "\n",
    "def only_odd(item):\n",
    "\treturn item % 2 != 0\n",
    "\n",
    "print(list(filter(only_odd, my_list)))\n",
    "print(my_list)"
   ]
  },
  {
   "attachments": {},
   "cell_type": "markdown",
   "metadata": {},
   "source": [
    "### `zip()`\n",
    "\n",
    "Takes iterables (can be zero or more), aggregates them in a tuple, and returns it\n",
    "\n",
    "`zip(*iterables)`"
   ]
  },
  {
   "cell_type": "code",
   "execution_count": 7,
   "metadata": {},
   "outputs": [
    {
     "name": "stdout",
     "output_type": "stream",
     "text": [
      "[('Korean', 1), ('Spanish', 3), ('French', 1)]\n"
     ]
    }
   ],
   "source": [
    "languages = ['Korean', 'Spanish', 'French']\n",
    "months_learning = [1, 3, 1]\n",
    "\n",
    "result = zip(languages, months_learning)\n",
    "print(list(result))"
   ]
  },
  {
   "cell_type": "code",
   "execution_count": 8,
   "metadata": {},
   "outputs": [
    {
     "name": "stdout",
     "output_type": "stream",
     "text": [
      "[('Korean', 1, 'F'), ('Spanish', 3, 'F'), ('French', 1, 'M')]\n"
     ]
    }
   ],
   "source": [
    "# We can take multiple lists and zip them into a tuple as well\n",
    "\n",
    "languages = ['Korean', 'Spanish', 'French']\n",
    "months_learning = [1, 3, 1]\n",
    "gender = ['F', 'F', 'M']\n",
    "\n",
    "result = zip(languages, months_learning, gender)\n",
    "print(list(result))"
   ]
  },
  {
   "attachments": {},
   "cell_type": "markdown",
   "metadata": {},
   "source": [
    "### `reduce()`\n",
    "\n",
    "You can import `functools` to import more functions from the Python installation\n",
    "\n",
    "Used to apply a particular function passed in its argument to all of the list elements\n",
    "\n",
    "`reduce(function, sequence[, initial])`\n",
    "\n",
    "The initial is what the accumulator is going to be in our code below"
   ]
  },
  {
   "cell_type": "code",
   "execution_count": 11,
   "metadata": {},
   "outputs": [
    {
     "name": "stdout",
     "output_type": "stream",
     "text": [
      "0 1\n",
      "1 2\n",
      "3 3\n",
      "6\n",
      "[1, 2, 3]\n"
     ]
    }
   ],
   "source": [
    "from functools import reduce\n",
    "\n",
    "my_list = [1, 2, 3]\n",
    "\n",
    "def multiply_by2(item):\n",
    "    return item*2\n",
    "\n",
    "def only_odd(item):\n",
    "    return item % 2 != 0\n",
    "\n",
    "def accumulator(acc, item): # the acc defaults to 0 given below\n",
    "    print(acc, item)\n",
    "    return acc + item\n",
    "    \n",
    "print(reduce(accumulator, my_list, 0))\n",
    "print(my_list)\n",
    "\n",
    "# reduce() allows us to reduce something. We have my_list, which is applied through accumulator\n",
    "# thanks to the reduce() function. Then, the accumulator is going to take from my_list, which is 0\n",
    "# to start off with, leaving the item to be 1. (First row of output)\n",
    "\n",
    "# Returning acc + item is now 0 + 1, which is 1, and then that is recycled back into\n",
    "# print(acc, item), meaning that acc is now 1 and the item is now 2. The process then repeats\n",
    "# until the end of the list."
   ]
  },
  {
   "attachments": {},
   "cell_type": "markdown",
   "metadata": {},
   "source": [
    "## Functional Programming Exercise"
   ]
  },
  {
   "cell_type": "code",
   "execution_count": 38,
   "metadata": {},
   "outputs": [
    {
     "name": "stdout",
     "output_type": "stream",
     "text": [
      "Sisi\n",
      "Bibi\n",
      "Titi\n",
      "Carla\n",
      "[('e', 1), ('d', 2), ('c', 3), ('b', 4), ('a', 5)]\n",
      "[73, 65, 76, 100, 88]\n",
      "456\n"
     ]
    }
   ],
   "source": [
    "# MY ATTEMPT\n",
    "\n",
    "from functools import reduce\n",
    "\n",
    "#1. Capitalize all of the pet names and print the list\n",
    "my_pets = ['sisi', 'bibi', 'titi', 'carla']\n",
    "for pet in my_pets:\n",
    "    print(pet.title())\n",
    "\n",
    "#2. Zip the 2 lists into a list of tuples, but sort the numbers from lowest to highest.\n",
    "my_strings = ['a', 'b', 'c', 'd', 'e']\n",
    "my_numbers = [5,4,3,2,1]\n",
    "result = zip(my_strings, my_numbers)\n",
    "\n",
    "zipped = list(result)\n",
    "\n",
    "final = sorted(zipped, key = lambda x:x[1])\n",
    "print(final)\n",
    "\n",
    "#3. Filter the scores that pass over 50%\n",
    "scores = [73, 20, 65, 19, 76, 100, 88]\n",
    "over_50 = filter(lambda n: n > 50, scores)\n",
    "print(list(over_50))\n",
    "\n",
    "#4. Combine all of the numbers that are in a list on this file using reduce (my_numbers and scores). What is the total?\n",
    "def accumulator(acc, item):\n",
    "    return acc + item\n",
    "\n",
    "print(reduce(accumulator, (my_numbers + scores)))\n"
   ]
  },
  {
   "cell_type": "code",
   "execution_count": 39,
   "metadata": {},
   "outputs": [
    {
     "name": "stdout",
     "output_type": "stream",
     "text": [
      "['SISI', 'BIBI', 'TITI', 'CARLA']\n",
      "[('a', 1), ('b', 2), ('c', 3), ('d', 4), ('e', 5)]\n",
      "[73, 65, 76, 100, 88]\n",
      "456\n"
     ]
    }
   ],
   "source": [
    "# THE ANSWER\n",
    "\n",
    "from functools import reduce\n",
    "\n",
    "#1 Capitalize all of the pet names and print the list\n",
    "my_pets = ['sisi', 'bibi', 'titi', 'carla']\n",
    "\n",
    "def capitalize(string):\n",
    "    return string.upper()\n",
    "\n",
    "print(list(map(capitalize, my_pets)))\n",
    "\n",
    "\n",
    "#2 Zip the 2 lists into a list of tuples, but sort the numbers from lowest to highest.\n",
    "my_strings = ['a', 'b', 'c', 'd', 'e']\n",
    "my_numbers = [5,4,3,2,1]\n",
    "\n",
    "print(list(zip(my_strings, sorted(my_numbers))))\n",
    "\n",
    "\n",
    "#3 Filter the scores that pass over 50%\n",
    "scores = [73, 20, 65, 19, 76, 100, 88]\n",
    "\n",
    "def is_smart_student(score):\n",
    "    return score > 50\n",
    "\n",
    "print(list(filter(is_smart_student, scores)))\n",
    "\n",
    "\n",
    "#4 Combine all of the numbers that are in a list on this file using reduce (my_numbers and scores). What is the total?\n",
    "def accumulator(acc, item):\n",
    "    return acc + item\n",
    "\n",
    "print(reduce(accumulator, (my_numbers + scores)))"
   ]
  },
  {
   "attachments": {},
   "cell_type": "markdown",
   "metadata": {},
   "source": [
    "### `lambda` Expressions\n",
    "\n",
    "They are one time anonymous functions that you do not need more than once. \n",
    "\n",
    "They can take any number of arguments, but only have one expression.\n",
    "\n",
    "`lambda param: action(param)`"
   ]
  },
  {
   "cell_type": "code",
   "execution_count": 4,
   "metadata": {},
   "outputs": [
    {
     "name": "stdout",
     "output_type": "stream",
     "text": [
      "[1, 2, 3]\n",
      "[2, 4, 6]\n",
      "[1, 3]\n",
      "6\n"
     ]
    }
   ],
   "source": [
    "from functools import reduce\n",
    "\n",
    "my_list = [1, 2, 3]\n",
    "\n",
    "print(my_list)\n",
    "print(list(map(lambda item: item*2, my_list))) # no name attached to this function and it has only been run once\n",
    "print(list(filter(lambda item: item % 2 != 0, my_list)))\n",
    "print(reduce(lambda acc, item: acc + item, my_list))"
   ]
  },
  {
   "cell_type": "code",
   "execution_count": 14,
   "metadata": {},
   "outputs": [
    {
     "name": "stdout",
     "output_type": "stream",
     "text": [
      "[25, 16, 9]\n",
      "[(10, -1), (0, 2), (4, 3), (9, 9)]\n",
      "[(10, -1), (0, 2), (4, 3), (9, 9)]\n"
     ]
    }
   ],
   "source": [
    "# Squaring\n",
    "\n",
    "my_list = [5, 4, 3]\n",
    "print(list(map(lambda i: i**2, my_list)))\n",
    "\n",
    "# List Sorting\n",
    "a_list = [(0, 2), (4, 3), (9, 9), (10, -1)]\n",
    "print(list(sorted(a_list, key = lambda x:(x[-1], x[1]))))\n",
    "\n",
    "a_list.sort(key=lambda x:x[1]) # another alternative\n",
    "print(a_list)"
   ]
  },
  {
   "attachments": {},
   "cell_type": "markdown",
   "metadata": {},
   "source": [
    "### List Comprehensions\n",
    "\n",
    "A quick way for us to create lists, sets, or dictionaries in Python instead of looping or appending to that list"
   ]
  },
  {
   "cell_type": "code",
   "execution_count": 2,
   "metadata": {},
   "outputs": [
    {
     "name": "stdout",
     "output_type": "stream",
     "text": [
      "['h', 'e', 'l', 'l', 'o']\n",
      "['h', 'e', 'l', 'l', 'o']\n"
     ]
    }
   ],
   "source": [
    "# This is the standard method.\n",
    "my_list = []\n",
    "\n",
    "for char in 'hello':\n",
    "\tmy_list.append(char)\n",
    "\n",
    "print(my_list)\n",
    "\n",
    "# Here is the use of comprehension within lists.\n",
    "my_list = [char for char in 'hello'] # Create a variable and do a for loop within the list\n",
    "print(my_list)"
   ]
  },
  {
   "cell_type": "code",
   "execution_count": 4,
   "metadata": {},
   "outputs": [
    {
     "name": "stdout",
     "output_type": "stream",
     "text": [
      "[0, 1, 2, 3, 4, 5, 6, 7, 8, 9]\n",
      "[0, 2, 4, 6, 8, 10, 12, 14, 16, 18]\n"
     ]
    }
   ],
   "source": [
    "# Let's use integers this time\n",
    "my_list2 = [num for num in range(0,10)]\n",
    "print(my_list2)\n",
    "\n",
    "# What if you want to double those numbers?\n",
    "my_list3 = [num*2 for num in range(0, 10)]\n",
    "print(my_list3)"
   ]
  },
  {
   "cell_type": "code",
   "execution_count": 1,
   "metadata": {},
   "outputs": [
    {
     "name": "stdout",
     "output_type": "stream",
     "text": [
      "[0, 4, 16, 36, 64, 100, 144, 196, 256, 324, 400, 484, 576, 676, 784, 900, 1024, 1156, 1296, 1444, 1600, 1764, 1936, 2116, 2304, 2500, 2704, 2916, 3136, 3364, 3600, 3844, 4096, 4356, 4624, 4900, 5184, 5476, 5776, 6084, 6400, 6724, 7056, 7396, 7744, 8100, 8464, 8836, 9216, 9604]\n"
     ]
    }
   ],
   "source": [
    "my_list4 = [num**2 for num in range(0, 100) if num % 2 == 0]\n",
    "print(my_list4)"
   ]
  },
  {
   "attachments": {},
   "cell_type": "markdown",
   "metadata": {},
   "source": [
    "### Set and Dictionary Comprehensions\n",
    "\n",
    "With sets, you can do the same thing as we've always done with the lists above."
   ]
  },
  {
   "cell_type": "code",
   "execution_count": 11,
   "metadata": {},
   "outputs": [
    {
     "name": "stdout",
     "output_type": "stream",
     "text": [
      "{'e', 'h', 'o', 'l'}\n",
      "{0, 1, 2, 3, 4, 5, 6, 7, 8, 9, 10, 11, 12, 13, 14, 15, 16, 17, 18, 19}\n",
      "{0, 2, 4, 6, 8, 10, 12, 14, 16, 18, 20, 22, 24, 26, 28, 30, 32, 34, 36, 38}\n",
      "{0, 64, 256, 4, 36, 100, 196, 324, 16, 144}\n"
     ]
    }
   ],
   "source": [
    "set1 = {char for char in 'hello'}\n",
    "print(set1)\n",
    "\n",
    "set2 = {num for num in range(0, 20)}\n",
    "print(set2)\n",
    "\n",
    "set3 = {num*2 for num in range(0, 20)}\n",
    "print(set3)\n",
    "\n",
    "set4 = {num**2 for num in range(0, 20) if num % 2 == 0}\n",
    "print(set4)\n",
    "\n",
    "# Remember that sets only allow unique numbers, there are no duplicates"
   ]
  },
  {
   "cell_type": "code",
   "execution_count": 15,
   "metadata": {},
   "outputs": [
    {
     "name": "stdout",
     "output_type": "stream",
     "text": [
      "{'b': 4}\n",
      "{1: 2, 2: 4, 3: 6}\n"
     ]
    }
   ],
   "source": [
    "# For dictionaries, you'd want to have the key:value part during comprehension. Remember to pass in the key and the value.\n",
    "\n",
    "simple_dict = {\n",
    "    'a': 1,\n",
    "    'b': 2,\n",
    "    'c': 3\n",
    "}\n",
    "\n",
    "my_dict = {key:value**2 for key, value in simple_dict.items() if value % 2 == 0}\n",
    "print(my_dict)\n",
    "\n",
    "my_dict2 = {num:num*2 for num in [1, 2, 3]}\n",
    "print(my_dict2)"
   ]
  },
  {
   "cell_type": "code",
   "execution_count": 23,
   "metadata": {},
   "outputs": [
    {
     "name": "stdout",
     "output_type": "stream",
     "text": [
      "['b', 'm']\n",
      "['b', 'm']\n"
     ]
    }
   ],
   "source": [
    "# Given the loop here, how can we apply comprehension to this?\n",
    "some_list = ['a', 'b', 'c', 'b', 'd', 'm', 'n', 'm']\n",
    "\n",
    "duplicates = []\n",
    "for value in some_list:\n",
    "    if some_list.count(value) > 1:\n",
    "        if value not in duplicates:\n",
    "            duplicates.append(value)\n",
    "\n",
    "print(duplicates)\n",
    "\n",
    "# --------------------------\n",
    "\n",
    "# Remember .count() tells us how many times a certain value appears in a list, etc.\n",
    "duplicates = list(set([x for x in some_list if some_list.count(x) > 1]))\n",
    "print(duplicates)\n"
   ]
  }
 ],
 "metadata": {
  "kernelspec": {
   "display_name": "Python 3",
   "language": "python",
   "name": "python3"
  },
  "language_info": {
   "codemirror_mode": {
    "name": "ipython",
    "version": 3
   },
   "file_extension": ".py",
   "mimetype": "text/x-python",
   "name": "python",
   "nbconvert_exporter": "python",
   "pygments_lexer": "ipython3",
   "version": "3.10.6"
  },
  "orig_nbformat": 4,
  "vscode": {
   "interpreter": {
    "hash": "51c7269ed29b4e88c3240d25a87d265b5a86ff1e3a5a3d8fa161d871dd293899"
   }
  }
 },
 "nbformat": 4,
 "nbformat_minor": 2
}
