{
  "cells": [
    {
      "cell_type": "markdown",
      "metadata": {
        "id": "RTeKKm7aJlo0"
      },
      "source": [
        "# NumPy Practice\n",
        "\n",
        "This notebook offers a set of exercises for different tasks with NumPy.\n",
        "\n",
        "It should be noted there may be more than one different way to answer a question or complete an exercise.\n",
        "\n",
        "Exercises are based off (and directly taken from) the quick introduction to NumPy notebook.\n",
        "\n",
        "Different tasks will be detailed by comments or text.\n",
        "\n",
        "For further reference and resources, it's advised to check out the [NumPy documentation](https://numpy.org/devdocs/user/index.html).\n",
        "\n",
        "And if you get stuck, try searching for a question in the following format: \"how to do XYZ with numpy\", where XYZ is the function you want to leverage from NumPy."
      ]
    },
    {
      "cell_type": "code",
      "execution_count": null,
      "metadata": {
        "id": "RN_BDsBUJlo2"
      },
      "outputs": [],
      "source": [
        "# Import NumPy as its abbreviation 'np'\n",
        "import numpy as np"
      ]
    },
    {
      "cell_type": "code",
      "execution_count": null,
      "metadata": {
        "id": "2D8wn8VTJlo3"
      },
      "outputs": [],
      "source": [
        "# Create a 1-dimensional NumPy array using np.array()\n",
        "a1 = np.array([1, 2, 3])\n",
        "\n",
        "# Create a 2-dimensional NumPy array using np.array()\n",
        "a2 = np.array([[4, 5, 6], [7, 8, 9]])\n",
        "\n",
        "# Create a 3-dimensional Numpy array using np.array()\n",
        "a3 = np.array([[[2, 3.0, 4.4],\n",
        "                [7, 8.7, 5.6],\n",
        "                [9.0, 3.5, 4.3]]])"
      ]
    },
    {
      "cell_type": "markdown",
      "metadata": {
        "id": "KtkABPDnJlo3"
      },
      "source": [
        "Now we've you've created 3 different arrays, let's find details about them.\n",
        "\n",
        "Find the shape, number of dimensions, data type, size and type of each array."
      ]
    },
    {
      "cell_type": "code",
      "execution_count": null,
      "metadata": {
        "id": "5bZuPXTnJlo3",
        "colab": {
          "base_uri": "https://localhost:8080/"
        },
        "outputId": "11ccf5f6-c924-441e-99fc-7bfd2606c2a0"
      },
      "outputs": [
        {
          "output_type": "execute_result",
          "data": {
            "text/plain": [
              "(3,)"
            ]
          },
          "metadata": {},
          "execution_count": 4
        }
      ],
      "source": [
        "# Attributes of 1-dimensional array (shape, \n",
        "# number of dimensions, data type, size and type)\n",
        "a1.shape"
      ]
    },
    {
      "cell_type": "code",
      "source": [
        "a1.ndim"
      ],
      "metadata": {
        "colab": {
          "base_uri": "https://localhost:8080/"
        },
        "id": "3vyzY0uy1TqN",
        "outputId": "18a06582-6fcf-402b-8ce5-3cc9f925c16d"
      },
      "execution_count": null,
      "outputs": [
        {
          "output_type": "execute_result",
          "data": {
            "text/plain": [
              "1"
            ]
          },
          "metadata": {},
          "execution_count": 5
        }
      ]
    },
    {
      "cell_type": "code",
      "source": [
        "a1.size"
      ],
      "metadata": {
        "colab": {
          "base_uri": "https://localhost:8080/"
        },
        "id": "goGFwYyR1azt",
        "outputId": "c6a41640-ddbc-4369-b6f9-e1de77076130"
      },
      "execution_count": null,
      "outputs": [
        {
          "output_type": "execute_result",
          "data": {
            "text/plain": [
              "3"
            ]
          },
          "metadata": {},
          "execution_count": 7
        }
      ]
    },
    {
      "cell_type": "code",
      "source": [
        "a1.dtype"
      ],
      "metadata": {
        "colab": {
          "base_uri": "https://localhost:8080/"
        },
        "id": "jxWtzn9H1bY7",
        "outputId": "7f84915f-2440-4085-e705-91b94fbff1f5"
      },
      "execution_count": null,
      "outputs": [
        {
          "output_type": "execute_result",
          "data": {
            "text/plain": [
              "dtype('int64')"
            ]
          },
          "metadata": {},
          "execution_count": 8
        }
      ]
    },
    {
      "cell_type": "code",
      "execution_count": null,
      "metadata": {
        "id": "Ke1tf1GyJlo3",
        "colab": {
          "base_uri": "https://localhost:8080/"
        },
        "outputId": "0dc6d856-c6b6-4ae2-dd71-a8cefdbe006f"
      },
      "outputs": [
        {
          "output_type": "execute_result",
          "data": {
            "text/plain": [
              "(2, 3)"
            ]
          },
          "metadata": {},
          "execution_count": 9
        }
      ],
      "source": [
        "# Attributes of 2-dimensional array\n",
        "a2.shape"
      ]
    },
    {
      "cell_type": "code",
      "source": [
        "a2.ndim"
      ],
      "metadata": {
        "colab": {
          "base_uri": "https://localhost:8080/"
        },
        "id": "T7lwcG2E2MT7",
        "outputId": "9970af4c-4bbe-4a80-9515-bb6a1fd92581"
      },
      "execution_count": null,
      "outputs": [
        {
          "output_type": "execute_result",
          "data": {
            "text/plain": [
              "2"
            ]
          },
          "metadata": {},
          "execution_count": 11
        }
      ]
    },
    {
      "cell_type": "code",
      "source": [
        "a2.dtype"
      ],
      "metadata": {
        "colab": {
          "base_uri": "https://localhost:8080/"
        },
        "id": "s54B0gMU2OPT",
        "outputId": "33a0e198-7144-4962-c3ff-18740aa4fff0"
      },
      "execution_count": null,
      "outputs": [
        {
          "output_type": "execute_result",
          "data": {
            "text/plain": [
              "dtype('int64')"
            ]
          },
          "metadata": {},
          "execution_count": 12
        }
      ]
    },
    {
      "cell_type": "code",
      "source": [
        "a2.size"
      ],
      "metadata": {
        "colab": {
          "base_uri": "https://localhost:8080/"
        },
        "id": "oAZrdkdh2hAr",
        "outputId": "962abd25-032c-4c7a-be18-5c160ad78307"
      },
      "execution_count": null,
      "outputs": [
        {
          "output_type": "execute_result",
          "data": {
            "text/plain": [
              "6"
            ]
          },
          "metadata": {},
          "execution_count": 13
        }
      ]
    },
    {
      "cell_type": "code",
      "execution_count": null,
      "metadata": {
        "id": "3KuYHarXJlo4",
        "colab": {
          "base_uri": "https://localhost:8080/"
        },
        "outputId": "eaa0f4db-a6ee-4864-e7b3-0bed2da3435a"
      },
      "outputs": [
        {
          "output_type": "execute_result",
          "data": {
            "text/plain": [
              "(1, 3, 3)"
            ]
          },
          "metadata": {},
          "execution_count": 14
        }
      ],
      "source": [
        "# Attributes of 3-dimensional array\n",
        "a3.shape"
      ]
    },
    {
      "cell_type": "code",
      "source": [
        "a3.ndim"
      ],
      "metadata": {
        "colab": {
          "base_uri": "https://localhost:8080/"
        },
        "id": "i1Acn1kv2ZoD",
        "outputId": "a9203d46-2b20-4516-a3e6-41b700e9714a"
      },
      "execution_count": null,
      "outputs": [
        {
          "output_type": "execute_result",
          "data": {
            "text/plain": [
              "3"
            ]
          },
          "metadata": {},
          "execution_count": 15
        }
      ]
    },
    {
      "cell_type": "code",
      "source": [
        "a3.dtype"
      ],
      "metadata": {
        "colab": {
          "base_uri": "https://localhost:8080/"
        },
        "id": "_86y8CW72aos",
        "outputId": "2214a208-cd37-45a0-f09d-1f45e828c613"
      },
      "execution_count": null,
      "outputs": [
        {
          "output_type": "execute_result",
          "data": {
            "text/plain": [
              "dtype('float64')"
            ]
          },
          "metadata": {},
          "execution_count": 16
        }
      ]
    },
    {
      "cell_type": "code",
      "source": [
        "a3.size"
      ],
      "metadata": {
        "colab": {
          "base_uri": "https://localhost:8080/"
        },
        "id": "EmQHLsE22c1D",
        "outputId": "00053acb-182f-4e7c-839d-f823a6973daf"
      },
      "execution_count": null,
      "outputs": [
        {
          "output_type": "execute_result",
          "data": {
            "text/plain": [
              "9"
            ]
          },
          "metadata": {},
          "execution_count": 17
        }
      ]
    },
    {
      "cell_type": "code",
      "execution_count": null,
      "metadata": {
        "id": "fiTChHNkJlo4",
        "colab": {
          "base_uri": "https://localhost:8080/",
          "height": 112
        },
        "outputId": "362bc6d4-d556-40ff-f522-0ebdfa089603"
      },
      "outputs": [
        {
          "output_type": "execute_result",
          "data": {
            "text/plain": [
              "   0  1  2\n",
              "0  4  5  6\n",
              "1  7  8  9"
            ],
            "text/html": [
              "\n",
              "  <div id=\"df-a7ecf6da-f4be-452e-8d19-39eaf496c98d\">\n",
              "    <div class=\"colab-df-container\">\n",
              "      <div>\n",
              "<style scoped>\n",
              "    .dataframe tbody tr th:only-of-type {\n",
              "        vertical-align: middle;\n",
              "    }\n",
              "\n",
              "    .dataframe tbody tr th {\n",
              "        vertical-align: top;\n",
              "    }\n",
              "\n",
              "    .dataframe thead th {\n",
              "        text-align: right;\n",
              "    }\n",
              "</style>\n",
              "<table border=\"1\" class=\"dataframe\">\n",
              "  <thead>\n",
              "    <tr style=\"text-align: right;\">\n",
              "      <th></th>\n",
              "      <th>0</th>\n",
              "      <th>1</th>\n",
              "      <th>2</th>\n",
              "    </tr>\n",
              "  </thead>\n",
              "  <tbody>\n",
              "    <tr>\n",
              "      <th>0</th>\n",
              "      <td>4</td>\n",
              "      <td>5</td>\n",
              "      <td>6</td>\n",
              "    </tr>\n",
              "    <tr>\n",
              "      <th>1</th>\n",
              "      <td>7</td>\n",
              "      <td>8</td>\n",
              "      <td>9</td>\n",
              "    </tr>\n",
              "  </tbody>\n",
              "</table>\n",
              "</div>\n",
              "      <button class=\"colab-df-convert\" onclick=\"convertToInteractive('df-a7ecf6da-f4be-452e-8d19-39eaf496c98d')\"\n",
              "              title=\"Convert this dataframe to an interactive table.\"\n",
              "              style=\"display:none;\">\n",
              "        \n",
              "  <svg xmlns=\"http://www.w3.org/2000/svg\" height=\"24px\"viewBox=\"0 0 24 24\"\n",
              "       width=\"24px\">\n",
              "    <path d=\"M0 0h24v24H0V0z\" fill=\"none\"/>\n",
              "    <path d=\"M18.56 5.44l.94 2.06.94-2.06 2.06-.94-2.06-.94-.94-2.06-.94 2.06-2.06.94zm-11 1L8.5 8.5l.94-2.06 2.06-.94-2.06-.94L8.5 2.5l-.94 2.06-2.06.94zm10 10l.94 2.06.94-2.06 2.06-.94-2.06-.94-.94-2.06-.94 2.06-2.06.94z\"/><path d=\"M17.41 7.96l-1.37-1.37c-.4-.4-.92-.59-1.43-.59-.52 0-1.04.2-1.43.59L10.3 9.45l-7.72 7.72c-.78.78-.78 2.05 0 2.83L4 21.41c.39.39.9.59 1.41.59.51 0 1.02-.2 1.41-.59l7.78-7.78 2.81-2.81c.8-.78.8-2.07 0-2.86zM5.41 20L4 18.59l7.72-7.72 1.47 1.35L5.41 20z\"/>\n",
              "  </svg>\n",
              "      </button>\n",
              "      \n",
              "  <style>\n",
              "    .colab-df-container {\n",
              "      display:flex;\n",
              "      flex-wrap:wrap;\n",
              "      gap: 12px;\n",
              "    }\n",
              "\n",
              "    .colab-df-convert {\n",
              "      background-color: #E8F0FE;\n",
              "      border: none;\n",
              "      border-radius: 50%;\n",
              "      cursor: pointer;\n",
              "      display: none;\n",
              "      fill: #1967D2;\n",
              "      height: 32px;\n",
              "      padding: 0 0 0 0;\n",
              "      width: 32px;\n",
              "    }\n",
              "\n",
              "    .colab-df-convert:hover {\n",
              "      background-color: #E2EBFA;\n",
              "      box-shadow: 0px 1px 2px rgba(60, 64, 67, 0.3), 0px 1px 3px 1px rgba(60, 64, 67, 0.15);\n",
              "      fill: #174EA6;\n",
              "    }\n",
              "\n",
              "    [theme=dark] .colab-df-convert {\n",
              "      background-color: #3B4455;\n",
              "      fill: #D2E3FC;\n",
              "    }\n",
              "\n",
              "    [theme=dark] .colab-df-convert:hover {\n",
              "      background-color: #434B5C;\n",
              "      box-shadow: 0px 1px 3px 1px rgba(0, 0, 0, 0.15);\n",
              "      filter: drop-shadow(0px 1px 2px rgba(0, 0, 0, 0.3));\n",
              "      fill: #FFFFFF;\n",
              "    }\n",
              "  </style>\n",
              "\n",
              "      <script>\n",
              "        const buttonEl =\n",
              "          document.querySelector('#df-a7ecf6da-f4be-452e-8d19-39eaf496c98d button.colab-df-convert');\n",
              "        buttonEl.style.display =\n",
              "          google.colab.kernel.accessAllowed ? 'block' : 'none';\n",
              "\n",
              "        async function convertToInteractive(key) {\n",
              "          const element = document.querySelector('#df-a7ecf6da-f4be-452e-8d19-39eaf496c98d');\n",
              "          const dataTable =\n",
              "            await google.colab.kernel.invokeFunction('convertToInteractive',\n",
              "                                                     [key], {});\n",
              "          if (!dataTable) return;\n",
              "\n",
              "          const docLinkHtml = 'Like what you see? Visit the ' +\n",
              "            '<a target=\"_blank\" href=https://colab.research.google.com/notebooks/data_table.ipynb>data table notebook</a>'\n",
              "            + ' to learn more about interactive tables.';\n",
              "          element.innerHTML = '';\n",
              "          dataTable['output_type'] = 'display_data';\n",
              "          await google.colab.output.renderOutput(dataTable, element);\n",
              "          const docLink = document.createElement('div');\n",
              "          docLink.innerHTML = docLinkHtml;\n",
              "          element.appendChild(docLink);\n",
              "        }\n",
              "      </script>\n",
              "    </div>\n",
              "  </div>\n",
              "  "
            ]
          },
          "metadata": {},
          "execution_count": 3
        }
      ],
      "source": [
        "# Import pandas and create a DataFrame out of one\n",
        "# of the arrays you've created\n",
        "\n",
        "import pandas as pd\n",
        "\n",
        "df = pd.DataFrame(a2)\n",
        "df"
      ]
    },
    {
      "cell_type": "code",
      "execution_count": null,
      "metadata": {
        "id": "wRjNA-ViJlo4",
        "colab": {
          "base_uri": "https://localhost:8080/"
        },
        "outputId": "e8cc900c-352d-4fc1-df13-bd9b09152e6d"
      },
      "outputs": [
        {
          "output_type": "execute_result",
          "data": {
            "text/plain": [
              "array([[1., 1.],\n",
              "       [1., 1.],\n",
              "       [1., 1.],\n",
              "       [1., 1.],\n",
              "       [1., 1.],\n",
              "       [1., 1.],\n",
              "       [1., 1.],\n",
              "       [1., 1.],\n",
              "       [1., 1.],\n",
              "       [1., 1.]])"
            ]
          },
          "metadata": {},
          "execution_count": 23
        }
      ],
      "source": [
        "# Create an array of shape (10, 2) with only ones\n",
        "\n",
        "ones = np.ones((10, 2))\n",
        "ones"
      ]
    },
    {
      "cell_type": "code",
      "execution_count": null,
      "metadata": {
        "id": "1_4ybosTJlo5",
        "colab": {
          "base_uri": "https://localhost:8080/"
        },
        "outputId": "b6c61b89-f2bc-45bb-f1b2-872d3ae38477"
      },
      "outputs": [
        {
          "output_type": "execute_result",
          "data": {
            "text/plain": [
              "array([[[0., 0., 0.],\n",
              "        [0., 0., 0.]],\n",
              "\n",
              "       [[0., 0., 0.],\n",
              "        [0., 0., 0.]],\n",
              "\n",
              "       [[0., 0., 0.],\n",
              "        [0., 0., 0.]],\n",
              "\n",
              "       [[0., 0., 0.],\n",
              "        [0., 0., 0.]],\n",
              "\n",
              "       [[0., 0., 0.],\n",
              "        [0., 0., 0.]],\n",
              "\n",
              "       [[0., 0., 0.],\n",
              "        [0., 0., 0.]],\n",
              "\n",
              "       [[0., 0., 0.],\n",
              "        [0., 0., 0.]]])"
            ]
          },
          "metadata": {},
          "execution_count": 24
        }
      ],
      "source": [
        "# Create an array of shape (7, 2, 3) of only zeros\n",
        "\n",
        "zeros = np.zeros((7, 2, 3))\n",
        "zeros"
      ]
    },
    {
      "cell_type": "code",
      "execution_count": null,
      "metadata": {
        "id": "hPYBUkB1Jlo5",
        "colab": {
          "base_uri": "https://localhost:8080/"
        },
        "outputId": "36f6c53b-e898-4c06-bb53-63967de27ed1"
      },
      "outputs": [
        {
          "output_type": "execute_result",
          "data": {
            "text/plain": [
              "array([ 0,  3,  6,  9, 12, 15, 18, 21, 24, 27, 30, 33, 36, 39, 42, 45, 48,\n",
              "       51, 54, 57, 60, 63, 66, 69, 72, 75, 78, 81, 84, 87, 90, 93, 96, 99])"
            ]
          },
          "metadata": {},
          "execution_count": 29
        }
      ],
      "source": [
        "# Create an array within a range of 0 and 100 with step 3\n",
        "\n",
        "range_array = np.arange(0, 100, 3)\n",
        "range_array"
      ]
    },
    {
      "cell_type": "code",
      "execution_count": null,
      "metadata": {
        "id": "AnqmWjDOJlo5",
        "colab": {
          "base_uri": "https://localhost:8080/"
        },
        "outputId": "14c39bfb-9f7a-4139-a9a5-bb778faeeed1"
      },
      "outputs": [
        {
          "output_type": "execute_result",
          "data": {
            "text/plain": [
              "array([[3, 9],\n",
              "       [9, 2],\n",
              "       [6, 3],\n",
              "       [6, 8],\n",
              "       [4, 6],\n",
              "       [4, 7],\n",
              "       [9, 2]])"
            ]
          },
          "metadata": {},
          "execution_count": 28
        }
      ],
      "source": [
        "# Create a random array with numbers between 0 and 10 of size (7, 2)\n",
        "\n",
        "random_array = np.random.randint(0, 10, size = (7, 2))\n",
        "random_array"
      ]
    },
    {
      "cell_type": "code",
      "execution_count": null,
      "metadata": {
        "id": "N5zx-uy9Jlo5",
        "colab": {
          "base_uri": "https://localhost:8080/"
        },
        "outputId": "70819c54-0061-49d4-f8c2-fc1f0e7d884c"
      },
      "outputs": [
        {
          "output_type": "execute_result",
          "data": {
            "text/plain": [
              "array([[0.51335544, 0.94316523, 0.03409696, 0.97255914, 0.40020873],\n",
              "       [0.07839764, 0.37933342, 0.21447201, 0.98054784, 0.32325228],\n",
              "       [0.24818028, 0.77210935, 0.45019304, 0.1529137 , 0.2711949 ]])"
            ]
          },
          "metadata": {},
          "execution_count": 30
        }
      ],
      "source": [
        "# Create a random array of floats between 0 & 1 of shape (3, 5)\n",
        "\n",
        "np.random.random((3, 5))"
      ]
    },
    {
      "cell_type": "code",
      "execution_count": null,
      "metadata": {
        "id": "PrUdzNg1Jlo5",
        "colab": {
          "base_uri": "https://localhost:8080/"
        },
        "outputId": "6456fa64-cfa6-4d15-e699-f578689876ca"
      },
      "outputs": [
        {
          "output_type": "execute_result",
          "data": {
            "text/plain": [
              "array([[6, 3, 7, 4, 6, 9],\n",
              "       [2, 6, 7, 4, 3, 7],\n",
              "       [7, 2, 5, 4, 1, 7],\n",
              "       [5, 1, 4, 0, 9, 5]])"
            ]
          },
          "metadata": {},
          "execution_count": 35
        }
      ],
      "source": [
        "# Set the random seed to 42\n",
        "np.random.seed(42)\n",
        "\n",
        "# Create a random array of numbers between 0 & 10 of size (4, 6)\n",
        "random_array_4 = np.random.randint(10, size = (4, 6))\n",
        "random_array_4"
      ]
    },
    {
      "cell_type": "markdown",
      "metadata": {
        "id": "blDqlaC5Jlo5"
      },
      "source": [
        "Run the cell above again, what happens?\n",
        "\n",
        "Are the numbers in the array different or the same? Why do think this is?"
      ]
    },
    {
      "cell_type": "code",
      "execution_count": null,
      "metadata": {
        "id": "vwObcslGJlo6",
        "colab": {
          "base_uri": "https://localhost:8080/"
        },
        "outputId": "49d8f7e3-31dd-4d69-f099-e7af5fd47878"
      },
      "outputs": [
        {
          "output_type": "execute_result",
          "data": {
            "text/plain": [
              "array([2, 3, 4, 5, 6, 7, 8, 9])"
            ]
          },
          "metadata": {},
          "execution_count": 3
        }
      ],
      "source": [
        "# Create an array of random numbers between 1 & 10 of size (3, 7)\n",
        "# and save it to a variable\n",
        "random_array_5 = np.random.randint(1, 10, size = (3, 7))\n",
        "\n",
        "# Find the unique numbers in the array you just created\n",
        "np.unique(random_array_5)"
      ]
    },
    {
      "cell_type": "code",
      "execution_count": null,
      "metadata": {
        "id": "PAMyKD2FJlo6",
        "colab": {
          "base_uri": "https://localhost:8080/"
        },
        "outputId": "5e0f55e8-f7c5-4b0e-bd02-97a699c95282"
      },
      "outputs": [
        {
          "output_type": "execute_result",
          "data": {
            "text/plain": [
              "1"
            ]
          },
          "metadata": {},
          "execution_count": 40
        }
      ],
      "source": [
        "# Find the 0'th index of the latest array you created\n",
        "a1[0]"
      ]
    },
    {
      "cell_type": "code",
      "execution_count": null,
      "metadata": {
        "id": "s3P62AbKJlo6",
        "colab": {
          "base_uri": "https://localhost:8080/"
        },
        "outputId": "c8df1941-d570-4712-d8de-68aa769e0e09"
      },
      "outputs": [
        {
          "output_type": "execute_result",
          "data": {
            "text/plain": [
              "array([[4, 5, 6],\n",
              "       [7, 8, 9]])"
            ]
          },
          "metadata": {},
          "execution_count": 41
        }
      ],
      "source": [
        "# Get the first 2 rows of latest array you created\n",
        "a2[:2]"
      ]
    },
    {
      "cell_type": "code",
      "execution_count": null,
      "metadata": {
        "id": "_sQHFcTyJlo6",
        "colab": {
          "base_uri": "https://localhost:8080/"
        },
        "outputId": "86d8b184-0098-438d-d200-3c7d0a7e0e36"
      },
      "outputs": [
        {
          "output_type": "execute_result",
          "data": {
            "text/plain": [
              "array([[[2. , 3. , 4.4],\n",
              "        [7. , 8.7, 5.6]]])"
            ]
          },
          "metadata": {},
          "execution_count": 42
        }
      ],
      "source": [
        "# Get the first 2 values of the first 2 rows of the latest array\n",
        "a3[:2, :2]"
      ]
    },
    {
      "cell_type": "code",
      "execution_count": null,
      "metadata": {
        "id": "3pqnY3YkJlo6"
      },
      "outputs": [],
      "source": [
        "# Create a random array of numbers between 0 & 10 and an array of ones\n",
        "# both of size (3, 5), save them both to variables\n",
        "\n",
        "rand_array = np.random.randint(10, size = (3, 5))\n",
        "ones_array = np.ones((3, 5))"
      ]
    },
    {
      "cell_type": "code",
      "execution_count": null,
      "metadata": {
        "id": "IKhoV9j4Jlo6",
        "colab": {
          "base_uri": "https://localhost:8080/"
        },
        "outputId": "6706b55d-21db-458a-e2d8-1e870ecb5737"
      },
      "outputs": [
        {
          "output_type": "execute_result",
          "data": {
            "text/plain": [
              "array([[3., 4., 2., 8., 5.],\n",
              "       [5., 2., 3., 3., 9.],\n",
              "       [1., 4., 9., 7., 3.]])"
            ]
          },
          "metadata": {},
          "execution_count": 5
        }
      ],
      "source": [
        "# Add the two arrays together\n",
        "\n",
        "rand_array + ones_array"
      ]
    },
    {
      "cell_type": "code",
      "execution_count": null,
      "metadata": {
        "id": "s1hB2gp6Jlo6"
      },
      "outputs": [],
      "source": [
        "# Create another array of ones of shape (5, 3)\n",
        "\n",
        "ones_2 = np.ones((5, 3))"
      ]
    },
    {
      "cell_type": "code",
      "execution_count": null,
      "metadata": {
        "id": "MtyYT7ufJlo7",
        "colab": {
          "base_uri": "https://localhost:8080/",
          "height": 200
        },
        "outputId": "24c8864e-98f9-42a6-fc78-667307a3f77d"
      },
      "outputs": [
        {
          "output_type": "error",
          "ename": "ValueError",
          "evalue": "ignored",
          "traceback": [
            "\u001b[0;31m---------------------------------------------------------------------------\u001b[0m",
            "\u001b[0;31mValueError\u001b[0m                                Traceback (most recent call last)",
            "\u001b[0;32m<ipython-input-47-7c39b41e753b>\u001b[0m in \u001b[0;36m<module>\u001b[0;34m\u001b[0m\n\u001b[1;32m      1\u001b[0m \u001b[0;31m# Try add the array of ones and the other most recent array together\u001b[0m\u001b[0;34m\u001b[0m\u001b[0;34m\u001b[0m\u001b[0;34m\u001b[0m\u001b[0m\n\u001b[1;32m      2\u001b[0m \u001b[0;34m\u001b[0m\u001b[0m\n\u001b[0;32m----> 3\u001b[0;31m \u001b[0mrand_array\u001b[0m \u001b[0;34m+\u001b[0m \u001b[0mones_array\u001b[0m \u001b[0;34m+\u001b[0m \u001b[0mones_2\u001b[0m\u001b[0;34m\u001b[0m\u001b[0;34m\u001b[0m\u001b[0m\n\u001b[0m",
            "\u001b[0;31mValueError\u001b[0m: operands could not be broadcast together with shapes (3,5) (5,3) "
          ]
        }
      ],
      "source": [
        "# Try add the array of ones and the other most recent array together\n",
        "\n",
        "rand_array + ones_array + ones_2"
      ]
    },
    {
      "cell_type": "markdown",
      "metadata": {
        "id": "7wlH8d_mJlo7"
      },
      "source": [
        "When you try the last cell, it produces an error. Why do think this is?\n",
        "\n",
        "How would you fix it?"
      ]
    },
    {
      "cell_type": "code",
      "execution_count": null,
      "metadata": {
        "id": "1qnDX8ZKJlo7"
      },
      "outputs": [],
      "source": [
        "# Create another array of ones of shape (3, 5)\n",
        "\n",
        "ones_3 = np.ones((3, 5))"
      ]
    },
    {
      "cell_type": "code",
      "execution_count": null,
      "metadata": {
        "id": "kNPxec9mJlo7",
        "colab": {
          "base_uri": "https://localhost:8080/"
        },
        "outputId": "6b383d42-f7c4-4f6c-fc13-4e3299e8f69e"
      },
      "outputs": [
        {
          "output_type": "execute_result",
          "data": {
            "text/plain": [
              "array([[ 1.,  2.,  0.,  6.,  3.],\n",
              "       [ 3.,  0.,  1.,  1.,  7.],\n",
              "       [-1.,  2.,  7.,  5.,  1.]])"
            ]
          },
          "metadata": {},
          "execution_count": 9
        }
      ],
      "source": [
        "# Subtract the new array of ones from the other most recent array\n",
        "\n",
        "rand_array - ones_3"
      ]
    },
    {
      "cell_type": "code",
      "execution_count": null,
      "metadata": {
        "id": "LHjfMMOEJlo7",
        "colab": {
          "base_uri": "https://localhost:8080/"
        },
        "outputId": "21f07060-0968-434a-8a25-751476b93208"
      },
      "outputs": [
        {
          "output_type": "execute_result",
          "data": {
            "text/plain": [
              "array([[2., 3., 1., 7., 4.],\n",
              "       [4., 1., 2., 2., 8.],\n",
              "       [0., 3., 8., 6., 2.]])"
            ]
          },
          "metadata": {},
          "execution_count": 10
        }
      ],
      "source": [
        "# Multiply the ones array with the latest array\n",
        "\n",
        "rand_array * ones_3"
      ]
    },
    {
      "cell_type": "code",
      "execution_count": null,
      "metadata": {
        "id": "qBd1561HJlo7",
        "colab": {
          "base_uri": "https://localhost:8080/"
        },
        "outputId": "5b603f9c-1424-4fe5-cc56-9d3d2b08c69b"
      },
      "outputs": [
        {
          "output_type": "execute_result",
          "data": {
            "text/plain": [
              "array([[ 4,  9,  1, 49, 16],\n",
              "       [16,  1,  4,  4, 64],\n",
              "       [ 0,  9, 64, 36,  4]])"
            ]
          },
          "metadata": {},
          "execution_count": 11
        }
      ],
      "source": [
        "# Take the latest array to the power of 2 using '**'\n",
        "\n",
        "rand_array ** 2"
      ]
    },
    {
      "cell_type": "code",
      "execution_count": null,
      "metadata": {
        "id": "U9VlMJ3FJlo8",
        "colab": {
          "base_uri": "https://localhost:8080/"
        },
        "outputId": "6e9106f6-d6f0-4f79-d5f8-f06e21ecca0b"
      },
      "outputs": [
        {
          "output_type": "execute_result",
          "data": {
            "text/plain": [
              "array([[ 4,  9,  1, 49, 16],\n",
              "       [16,  1,  4,  4, 64],\n",
              "       [ 0,  9, 64, 36,  4]])"
            ]
          },
          "metadata": {},
          "execution_count": 12
        }
      ],
      "source": [
        "# Do the same thing with np.square()\n",
        "\n",
        "np.square(rand_array)"
      ]
    },
    {
      "cell_type": "code",
      "execution_count": null,
      "metadata": {
        "id": "k37cs7MkJlo8",
        "colab": {
          "base_uri": "https://localhost:8080/"
        },
        "outputId": "ec3f4e26-8a29-43db-9167-0d66470b8313"
      },
      "outputs": [
        {
          "output_type": "execute_result",
          "data": {
            "text/plain": [
              "3.533333333333333"
            ]
          },
          "metadata": {},
          "execution_count": 13
        }
      ],
      "source": [
        "# Find the mean of the latest array using np.mean()\n",
        "\n",
        "np.mean(rand_array)"
      ]
    },
    {
      "cell_type": "code",
      "execution_count": null,
      "metadata": {
        "id": "nnbGuzyhJlo8",
        "colab": {
          "base_uri": "https://localhost:8080/"
        },
        "outputId": "f549fbea-4796-4d2e-caae-b29cc6be725d"
      },
      "outputs": [
        {
          "output_type": "execute_result",
          "data": {
            "text/plain": [
              "8"
            ]
          },
          "metadata": {},
          "execution_count": 14
        }
      ],
      "source": [
        "# Find the maximum of the latest array using np.max()\n",
        "\n",
        "np.max(rand_array)"
      ]
    },
    {
      "cell_type": "code",
      "execution_count": null,
      "metadata": {
        "id": "AuWPRTIIJlo8",
        "colab": {
          "base_uri": "https://localhost:8080/"
        },
        "outputId": "8a91d3f6-611d-44ee-dfe2-ef814cb67ba2"
      },
      "outputs": [
        {
          "output_type": "execute_result",
          "data": {
            "text/plain": [
              "0"
            ]
          },
          "metadata": {},
          "execution_count": 15
        }
      ],
      "source": [
        "# Find the minimum of the latest array using np.min()\n",
        "\n",
        "np.min(rand_array)"
      ]
    },
    {
      "cell_type": "code",
      "execution_count": null,
      "metadata": {
        "id": "38t91eJXJlo8",
        "colab": {
          "base_uri": "https://localhost:8080/"
        },
        "outputId": "a42a02a5-669e-435a-df58-d6e19808b978"
      },
      "outputs": [
        {
          "output_type": "execute_result",
          "data": {
            "text/plain": [
              "2.85657137141714"
            ]
          },
          "metadata": {},
          "execution_count": 4
        }
      ],
      "source": [
        "# Find the standard deviation of the latest array\n",
        "\n",
        "np.std(rand_array)"
      ]
    },
    {
      "cell_type": "code",
      "execution_count": null,
      "metadata": {
        "id": "kZfi_8zMJlo8",
        "colab": {
          "base_uri": "https://localhost:8080/"
        },
        "outputId": "d1fac583-23d1-4503-f18d-23b1cb90046b"
      },
      "outputs": [
        {
          "output_type": "execute_result",
          "data": {
            "text/plain": [
              "8.16"
            ]
          },
          "metadata": {},
          "execution_count": 5
        }
      ],
      "source": [
        "# Find the variance of the latest array\n",
        "\n",
        "np.var(rand_array)"
      ]
    },
    {
      "cell_type": "code",
      "execution_count": null,
      "metadata": {
        "id": "IHpaDCP3Jlo8",
        "colab": {
          "base_uri": "https://localhost:8080/"
        },
        "outputId": "4d42b82a-9341-46cd-96bf-181feeb655e2"
      },
      "outputs": [
        {
          "output_type": "execute_result",
          "data": {
            "text/plain": [
              "array([[[3],\n",
              "        [2],\n",
              "        [6],\n",
              "        [2],\n",
              "        [3]],\n",
              "\n",
              "       [[2],\n",
              "        [3],\n",
              "        [5],\n",
              "        [0],\n",
              "        [5]],\n",
              "\n",
              "       [[9],\n",
              "        [0],\n",
              "        [3],\n",
              "        [7],\n",
              "        [4]]])"
            ]
          },
          "metadata": {},
          "execution_count": 5
        }
      ],
      "source": [
        "# Reshape the latest array to (3, 5, 1)\n",
        "\n",
        "rand_array.reshape(3, 5, 1)"
      ]
    },
    {
      "cell_type": "code",
      "execution_count": null,
      "metadata": {
        "id": "wFlkwAjrJlo8",
        "colab": {
          "base_uri": "https://localhost:8080/"
        },
        "outputId": "3f5d32c0-b8d9-43a6-e15b-4bd4ce48f920"
      },
      "outputs": [
        {
          "output_type": "execute_result",
          "data": {
            "text/plain": [
              "array([[[2. ],\n",
              "        [7. ],\n",
              "        [9. ]],\n",
              "\n",
              "       [[3. ],\n",
              "        [8.7],\n",
              "        [3.5]],\n",
              "\n",
              "       [[4.4],\n",
              "        [5.6],\n",
              "        [4.3]]])"
            ]
          },
          "metadata": {},
          "execution_count": 6
        }
      ],
      "source": [
        "# Transpose the latest array\n",
        "\n",
        "a3.T"
      ]
    },
    {
      "cell_type": "code",
      "source": [
        "a3.shape"
      ],
      "metadata": {
        "colab": {
          "base_uri": "https://localhost:8080/"
        },
        "id": "Vsz5pLazPJcr",
        "outputId": "6773ed5c-ee7d-4f33-ab21-ea5263695c86"
      },
      "execution_count": null,
      "outputs": [
        {
          "output_type": "execute_result",
          "data": {
            "text/plain": [
              "(1, 3, 3)"
            ]
          },
          "metadata": {},
          "execution_count": 7
        }
      ]
    },
    {
      "cell_type": "markdown",
      "metadata": {
        "id": "H35rCgn-Jlo8"
      },
      "source": [
        "What does the transpose do?"
      ]
    },
    {
      "cell_type": "code",
      "execution_count": null,
      "metadata": {
        "id": "sg5jc3XxJlo8"
      },
      "outputs": [],
      "source": [
        "# Create two arrays of random integers between 0 to 10\n",
        "# one of size (3, 3) the other of size (3, 2)\n",
        "\n",
        "np.random.seed(0)\n",
        "\n",
        "x = np.random.randint(10, size = (3, 3))\n",
        "y = np.random.randint(10, size = (3, 2))"
      ]
    },
    {
      "cell_type": "code",
      "execution_count": null,
      "metadata": {
        "id": "YC9xGpWvJlo9",
        "colab": {
          "base_uri": "https://localhost:8080/"
        },
        "outputId": "5eb7e8e8-ac4d-4985-c056-9cbd65834813"
      },
      "outputs": [
        {
          "output_type": "execute_result",
          "data": {
            "text/plain": [
              "array([[5, 0, 3],\n",
              "       [3, 7, 9],\n",
              "       [3, 5, 2]])"
            ]
          },
          "metadata": {},
          "execution_count": 11
        }
      ],
      "source": [
        "# Perform a dot product on the two newest arrays you created\n",
        "\n",
        "x"
      ]
    },
    {
      "cell_type": "code",
      "source": [
        "y"
      ],
      "metadata": {
        "colab": {
          "base_uri": "https://localhost:8080/"
        },
        "id": "mdHBieYOQ_hZ",
        "outputId": "624fe2bd-5bfd-45a0-cc6f-3172d3f4792a"
      },
      "execution_count": null,
      "outputs": [
        {
          "output_type": "execute_result",
          "data": {
            "text/plain": [
              "array([[4, 7],\n",
              "       [6, 8],\n",
              "       [8, 1]])"
            ]
          },
          "metadata": {},
          "execution_count": 13
        }
      ]
    },
    {
      "cell_type": "code",
      "source": [
        "np.dot(x, y)"
      ],
      "metadata": {
        "colab": {
          "base_uri": "https://localhost:8080/"
        },
        "id": "OIFkXYgPRAxn",
        "outputId": "4dc317f7-f57b-4824-a31e-c24e29cafb0b"
      },
      "execution_count": null,
      "outputs": [
        {
          "output_type": "execute_result",
          "data": {
            "text/plain": [
              "array([[ 44,  38],\n",
              "       [126,  86],\n",
              "       [ 58,  63]])"
            ]
          },
          "metadata": {},
          "execution_count": 14
        }
      ]
    },
    {
      "cell_type": "code",
      "execution_count": null,
      "metadata": {
        "id": "6xbuXbVYJlo9"
      },
      "outputs": [],
      "source": [
        "# Create two arrays of random integers between 0 to 10\n",
        "# both of size (4, 3)\n",
        "\n",
        "a = np.random.randint(10, size = (4, 3))\n",
        "b = np.random.randint(10, size = (4, 3))"
      ]
    },
    {
      "cell_type": "code",
      "execution_count": null,
      "metadata": {
        "id": "2joXNzScJlo9",
        "colab": {
          "base_uri": "https://localhost:8080/",
          "height": 235
        },
        "outputId": "717bebab-4f16-4748-ec0d-2ec117fb2cc2"
      },
      "outputs": [
        {
          "output_type": "error",
          "ename": "ValueError",
          "evalue": "ignored",
          "traceback": [
            "\u001b[0;31m---------------------------------------------------------------------------\u001b[0m",
            "\u001b[0;31mValueError\u001b[0m                                Traceback (most recent call last)",
            "\u001b[0;32m<ipython-input-18-aa4d9c0b1476>\u001b[0m in \u001b[0;36m<module>\u001b[0;34m\u001b[0m\n\u001b[1;32m      1\u001b[0m \u001b[0;31m# Perform a dot product on the two newest arrays you created\u001b[0m\u001b[0;34m\u001b[0m\u001b[0;34m\u001b[0m\u001b[0;34m\u001b[0m\u001b[0m\n\u001b[1;32m      2\u001b[0m \u001b[0;34m\u001b[0m\u001b[0m\n\u001b[0;32m----> 3\u001b[0;31m \u001b[0mnp\u001b[0m\u001b[0;34m.\u001b[0m\u001b[0mdot\u001b[0m\u001b[0;34m(\u001b[0m\u001b[0ma\u001b[0m\u001b[0;34m,\u001b[0m \u001b[0mb\u001b[0m\u001b[0;34m)\u001b[0m\u001b[0;34m\u001b[0m\u001b[0;34m\u001b[0m\u001b[0m\n\u001b[0m",
            "\u001b[0;32m<__array_function__ internals>\u001b[0m in \u001b[0;36mdot\u001b[0;34m(*args, **kwargs)\u001b[0m\n",
            "\u001b[0;31mValueError\u001b[0m: shapes (4,3) and (4,3) not aligned: 3 (dim 1) != 4 (dim 0)"
          ]
        }
      ],
      "source": [
        "# Perform a dot product on the two newest arrays you created\n",
        "\n",
        "np.dot(a, b)"
      ]
    },
    {
      "cell_type": "markdown",
      "metadata": {
        "id": "-Rr2WRe0Jlo9"
      },
      "source": [
        "It doesn't work. How would you fix it?"
      ]
    },
    {
      "cell_type": "code",
      "execution_count": null,
      "metadata": {
        "id": "X7bumd2eJlo9",
        "colab": {
          "base_uri": "https://localhost:8080/"
        },
        "outputId": "4fc519cc-c45d-429e-eb34-a00d74e7f5b4"
      },
      "outputs": [
        {
          "output_type": "execute_result",
          "data": {
            "text/plain": [
              "array([[ 23,  19,  34],\n",
              "       [ 62,  85,  79],\n",
              "       [ 85, 129, 136]])"
            ]
          },
          "metadata": {},
          "execution_count": 19
        }
      ],
      "source": [
        "# Take the latest two arrays, perform a transpose on one of them and then perform \n",
        "# a dot product on them both\n",
        "\n",
        "np.dot(a.T, b)"
      ]
    },
    {
      "cell_type": "markdown",
      "metadata": {
        "id": "A1pE4inyJlo9"
      },
      "source": [
        "Notice how performing a transpose allows the dot product to happen.\n",
        "\n",
        "Why is this?\n",
        "\n",
        "Checking out the documentation on [`np.dot()`](https://docs.scipy.org/doc/numpy/reference/generated/numpy.dot.html) may help, as well as reading [Math is Fun's guide on the dot product](https://www.mathsisfun.com/algebra/vectors-dot-product.html).\n",
        "\n",
        "Let's now compare arrays."
      ]
    },
    {
      "cell_type": "code",
      "execution_count": null,
      "metadata": {
        "id": "b4yc37-PJlo9"
      },
      "outputs": [],
      "source": [
        "# Create two arrays of random integers between 0 & 10 of the same shape\n",
        "# and save them to variables\n",
        "\n",
        "a1 = np.random.randint(10, size = (3, 5))\n",
        "a2 = np.random.randint(10, size = (3, 5))"
      ]
    },
    {
      "cell_type": "code",
      "execution_count": null,
      "metadata": {
        "id": "vc62HXUhJlo9",
        "colab": {
          "base_uri": "https://localhost:8080/"
        },
        "outputId": "e4842033-b3e9-4e57-ecd7-9d3402562b9b"
      },
      "outputs": [
        {
          "output_type": "execute_result",
          "data": {
            "text/plain": [
              "array([[ True,  True,  True, False, False],\n",
              "       [ True, False, False, False, False],\n",
              "       [ True,  True, False, False,  True]])"
            ]
          },
          "metadata": {},
          "execution_count": 21
        }
      ],
      "source": [
        "# Compare the two arrays with '>'\n",
        "\n",
        "a1 > a2"
      ]
    },
    {
      "cell_type": "markdown",
      "metadata": {
        "id": "l43mdjvZJlo9"
      },
      "source": [
        "What happens when you compare the arrays with `>`?"
      ]
    },
    {
      "cell_type": "code",
      "execution_count": null,
      "metadata": {
        "id": "hSxpsTBXJlo9",
        "colab": {
          "base_uri": "https://localhost:8080/"
        },
        "outputId": "5ad56026-350b-4c1d-81e0-e661e5d43315"
      },
      "outputs": [
        {
          "output_type": "execute_result",
          "data": {
            "text/plain": [
              "array([[ True,  True,  True, False, False],\n",
              "       [ True, False, False, False,  True],\n",
              "       [ True,  True, False, False,  True]])"
            ]
          },
          "metadata": {},
          "execution_count": 22
        }
      ],
      "source": [
        "# Compare the two arrays with '>='\n",
        "\n",
        "a1 >= a2"
      ]
    },
    {
      "cell_type": "code",
      "execution_count": null,
      "metadata": {
        "id": "H0AkcueXJlo-",
        "colab": {
          "base_uri": "https://localhost:8080/"
        },
        "outputId": "37d8cd53-654a-4969-f161-424b1be2c5ef"
      },
      "outputs": [
        {
          "output_type": "execute_result",
          "data": {
            "text/plain": [
              "array([[False,  True,  True, False, False],\n",
              "       [False, False, False, False, False],\n",
              "       [ True, False, False, False, False]])"
            ]
          },
          "metadata": {},
          "execution_count": 23
        }
      ],
      "source": [
        "# Find which elements of the first array are greater than 7\n",
        "\n",
        "a1 > 7"
      ]
    },
    {
      "cell_type": "code",
      "execution_count": null,
      "metadata": {
        "id": "EWgAwO8nJlo-",
        "colab": {
          "base_uri": "https://localhost:8080/"
        },
        "outputId": "3feebc24-21c0-413e-fd55-056ec7b8eb46"
      },
      "outputs": [
        {
          "output_type": "execute_result",
          "data": {
            "text/plain": [
              "array([[False, False, False, False, False],\n",
              "       [False, False, False, False,  True],\n",
              "       [False, False, False, False, False]])"
            ]
          },
          "metadata": {},
          "execution_count": 25
        }
      ],
      "source": [
        "# Which parts of each array are equal? (try using '==')\n",
        "\n",
        "a1 == a2"
      ]
    },
    {
      "cell_type": "code",
      "execution_count": null,
      "metadata": {
        "id": "G11hgD-6Jlo-",
        "colab": {
          "base_uri": "https://localhost:8080/"
        },
        "outputId": "690058e4-4f78-4525-96ef-273d2d516f23"
      },
      "outputs": [
        {
          "output_type": "execute_result",
          "data": {
            "text/plain": [
              "array([[3, 6, 7, 9, 9],\n",
              "       [0, 2, 3, 5, 7],\n",
              "       [4, 4, 4, 6, 9]])"
            ]
          },
          "metadata": {},
          "execution_count": 26
        }
      ],
      "source": [
        "# Sort one of the arrays you just created in ascending order\n",
        "\n",
        "np.sort(a1)"
      ]
    },
    {
      "cell_type": "code",
      "execution_count": null,
      "metadata": {
        "id": "m-hCuqepJlo-",
        "colab": {
          "base_uri": "https://localhost:8080/"
        },
        "outputId": "c8580d1d-0aec-4357-98d8-1cbb6ffb9dfd"
      },
      "outputs": [
        {
          "output_type": "execute_result",
          "data": {
            "text/plain": [
              "array([[3, 4, 0, 1, 2],\n",
              "       [2, 1, 3, 4, 0],\n",
              "       [1, 2, 4, 3, 0]])"
            ]
          },
          "metadata": {},
          "execution_count": 27
        }
      ],
      "source": [
        "# Sort the indexes of one of the arrays you just created\n",
        "\n",
        "np.argsort(a1)"
      ]
    },
    {
      "cell_type": "code",
      "execution_count": null,
      "metadata": {
        "id": "jTTBmExYJlo-",
        "colab": {
          "base_uri": "https://localhost:8080/"
        },
        "outputId": "ee990aaa-8673-4e39-a25f-5a57802eb1dc"
      },
      "outputs": [
        {
          "output_type": "execute_result",
          "data": {
            "text/plain": [
              "1"
            ]
          },
          "metadata": {},
          "execution_count": 29
        }
      ],
      "source": [
        "# Find the index with the maximum value in one of the arrays you've created\n",
        "\n",
        "np.argmax(a1)"
      ]
    },
    {
      "cell_type": "code",
      "execution_count": null,
      "metadata": {
        "id": "kMARp1pAJlo-",
        "colab": {
          "base_uri": "https://localhost:8080/"
        },
        "outputId": "849dc992-35b2-412d-eb2a-c8c2813fe4e7"
      },
      "outputs": [
        {
          "output_type": "execute_result",
          "data": {
            "text/plain": [
              "7"
            ]
          },
          "metadata": {},
          "execution_count": 30
        }
      ],
      "source": [
        "# Find the index with the minimum value in one of the arrays you've created\n",
        "\n",
        "np.argmin(a1)"
      ]
    },
    {
      "cell_type": "code",
      "execution_count": null,
      "metadata": {
        "id": "7-r71AXLJlo-",
        "colab": {
          "base_uri": "https://localhost:8080/"
        },
        "outputId": "d4a47b6c-fbd4-496b-a2e1-00425daf69ad"
      },
      "outputs": [
        {
          "output_type": "execute_result",
          "data": {
            "text/plain": [
              "array([1, 0, 0])"
            ]
          },
          "metadata": {},
          "execution_count": 32
        }
      ],
      "source": [
        "# Find the indexes with the maximum values down the 1st axis (axis=1)\n",
        "# of one of the arrays you created\n",
        "\n",
        "np.argmax(a1, axis = 1)"
      ]
    },
    {
      "cell_type": "code",
      "execution_count": null,
      "metadata": {
        "id": "rRKhqjVDJlo-",
        "colab": {
          "base_uri": "https://localhost:8080/"
        },
        "outputId": "75f9a9f8-3767-4c80-93a7-53a9f20aa36f"
      },
      "outputs": [
        {
          "output_type": "execute_result",
          "data": {
            "text/plain": [
              "array([0, 1, 1, 0, 2])"
            ]
          },
          "metadata": {},
          "execution_count": 33
        }
      ],
      "source": [
        "# Find the indexes with the minimum values across the 0th axis (axis=0)\n",
        "# of one of the arrays you created\n",
        "\n",
        "np.argmin(a1, axis = 0)"
      ]
    },
    {
      "cell_type": "code",
      "execution_count": null,
      "metadata": {
        "id": "l0KGKEHbJlo-",
        "colab": {
          "base_uri": "https://localhost:8080/"
        },
        "outputId": "fe711bb4-9822-46d6-8681-f9d6b7384eab"
      },
      "outputs": [
        {
          "output_type": "execute_result",
          "data": {
            "text/plain": [
              "array([[ 1.50944508e+00,  1.06777513e+00, -6.86589477e-01,\n",
              "         1.48733161e-02, -3.75665896e-01, -3.82236374e-02,\n",
              "         3.67974474e-01, -4.47237002e-02, -3.02375133e-01,\n",
              "        -2.22440360e+00,  7.24006359e-01,  3.59002764e-01,\n",
              "         1.07612104e+00,  1.92140834e-01,  8.52925958e-01],\n",
              "       [ 1.83571826e-02,  4.28303567e-01,  9.96277835e-01,\n",
              "        -4.91149656e-01,  7.12678166e-01,  1.11334035e+00,\n",
              "        -2.15367459e+00, -4.16111482e-01, -1.07089699e+00,\n",
              "         2.21138805e-01, -1.12305712e+00, -1.05075796e+00,\n",
              "         1.01207905e+00,  1.54371643e+00, -4.02114889e-01],\n",
              "       [ 8.64749101e-01, -2.26869227e-01,  8.11160270e-01,\n",
              "         2.87794613e-01, -5.38468160e-01,  1.90846210e+00,\n",
              "        -4.75776001e-01,  1.44073112e+00, -1.14907568e+00,\n",
              "         8.05714552e-01,  1.75610703e+00,  9.72979914e-01,\n",
              "        -1.55111911e+00,  1.91143478e-01,  1.60477607e+00],\n",
              "       [-1.42002593e+00, -2.44378268e+00, -2.05633855e+00,\n",
              "        -9.92257550e-01,  1.01128532e+00,  1.40044008e+00,\n",
              "        -6.54991684e-01, -2.55790691e-01, -7.14385610e-01,\n",
              "        -5.00838765e-01,  5.56453422e-02, -4.88961783e-01,\n",
              "        -3.79922445e-01,  2.59734653e-01, -1.68134864e+00],\n",
              "       [-9.16794805e-01, -1.19224100e-01, -4.46277280e-01,\n",
              "        -2.14335544e+00,  1.00377671e-02, -5.58222587e-01,\n",
              "         4.80905651e-01, -5.74142012e-01, -2.52467597e-01,\n",
              "         1.03984679e+00, -2.34795257e-02,  8.94222897e-02,\n",
              "        -5.94327371e-01, -1.05696794e-01,  7.42795713e-01],\n",
              "       [-7.54981527e-01, -1.38282715e-01, -2.12492027e+00,\n",
              "        -1.03001883e+00, -5.17451865e-01, -1.41800012e-01,\n",
              "        -1.27648021e+00,  1.48151328e+00,  1.65927664e+00,\n",
              "         1.39611962e-04,  1.50583836e+00,  1.04520923e-01,\n",
              "        -2.36043151e-01,  8.19435034e-01,  4.02856439e-01],\n",
              "       [-1.43824188e+00,  2.71248834e-01, -6.90603124e-01,\n",
              "        -6.81532976e-01, -1.51223065e+00,  2.19689103e+00,\n",
              "         1.04117502e+00, -3.32360282e-02,  6.56412810e-02,\n",
              "         2.65785722e-01,  1.15184215e+00,  1.38042881e-01,\n",
              "        -1.47805531e-01,  1.68382745e+00,  9.71832126e-01],\n",
              "       [ 1.60767401e+00, -2.57127738e-01,  1.80981769e+00,\n",
              "         8.92348499e-01, -9.65761274e-02, -3.77157018e-01,\n",
              "        -5.05297741e-01, -1.36267113e+00,  1.13312703e+00,\n",
              "        -7.00689758e-01, -1.76834790e+00,  3.40417282e-01,\n",
              "         7.29241691e-01, -1.08835382e+00, -2.87777873e+00],\n",
              "       [-6.61477691e-01,  7.05928389e-01, -3.58597842e-01,\n",
              "         7.31982454e-01, -3.63665328e-02,  5.88914219e-01,\n",
              "        -7.79634808e-01,  4.76336690e-01,  8.33880115e-01,\n",
              "         1.31379269e+00, -6.01708598e-01, -5.47163800e-01,\n",
              "         6.09650793e-01,  7.58932155e-01, -1.18591918e+00],\n",
              "       [ 9.29399433e-01,  5.46952023e-01, -8.69592340e-01,\n",
              "         1.22342791e+00, -1.32430362e-01, -5.04896208e-01,\n",
              "        -4.44757803e-01,  3.77136196e-01, -6.37106500e-01,\n",
              "        -1.04753179e-01, -1.51042015e-01,  8.44626030e-01,\n",
              "         9.08642391e-01,  9.82421563e-01, -1.18095088e+00]])"
            ]
          },
          "metadata": {},
          "execution_count": 35
        }
      ],
      "source": [
        "# Create an array of normally distributed random numbers\n",
        "\n",
        "np.random.randn(10, 15)"
      ]
    },
    {
      "cell_type": "code",
      "execution_count": null,
      "metadata": {
        "id": "qSRg9n4XJlo-",
        "colab": {
          "base_uri": "https://localhost:8080/"
        },
        "outputId": "57d5c63a-ba5b-42ea-95e6-6ab7fc292dad"
      },
      "outputs": [
        {
          "output_type": "execute_result",
          "data": {
            "text/plain": [
              "array([  1.,  12.,  23.,  34.,  45.,  56.,  67.,  78.,  89., 100.])"
            ]
          },
          "metadata": {},
          "execution_count": 37
        }
      ],
      "source": [
        "# Create an array with 10 evenly spaced numbers between 1 and 100\n",
        "\n",
        "np.linspace(1, 100, 10)"
      ]
    },
    {
      "cell_type": "markdown",
      "metadata": {
        "id": "adNDKFiBJlo_"
      },
      "source": [
        "## Extensions\n",
        "\n",
        "For more exercises, check out the [NumPy quickstart tutorial](https://numpy.org/doc/stable/user/quickstart.html). A good practice would be to read through it and for the parts you find interesting, add them into the end of this notebook.\n",
        "\n",
        "Pay particular attention to the section on broadcasting. And most importantly, get hands-on with the code as much as possible. If in dobut, run the code, see what it does.\n",
        "\n",
        "The next place you could go is the [Stack Overflow page for the top questions and answers for NumPy](https://stackoverflow.com/questions/tagged/numpy?sort=MostVotes&edited=true). Often, you'll find some of the most common and useful NumPy functions here. Don't forget to play around with the filters! You'll likely find something helpful here.\n",
        "\n",
        "Finally, as always, remember, the best way to learn something new is to try it. And try it relentlessly. If you get interested in some kind of NumPy function, asking yourself, \"I wonder if NumPy could do that?\", go and find out."
      ]
    }
  ],
  "metadata": {
    "kernelspec": {
      "display_name": "Python 3",
      "language": "python",
      "name": "python3"
    },
    "language_info": {
      "codemirror_mode": {
        "name": "ipython",
        "version": 3
      },
      "file_extension": ".py",
      "mimetype": "text/x-python",
      "name": "python",
      "nbconvert_exporter": "python",
      "pygments_lexer": "ipython3",
      "version": "3.8.3"
    },
    "colab": {
      "provenance": [],
      "toc_visible": true
    }
  },
  "nbformat": 4,
  "nbformat_minor": 0
}